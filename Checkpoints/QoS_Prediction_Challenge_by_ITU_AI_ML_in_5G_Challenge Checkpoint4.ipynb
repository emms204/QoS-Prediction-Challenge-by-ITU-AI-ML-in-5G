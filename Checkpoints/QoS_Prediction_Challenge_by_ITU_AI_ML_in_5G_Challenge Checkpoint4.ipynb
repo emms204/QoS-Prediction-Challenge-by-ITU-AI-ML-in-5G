{
  "nbformat": 4,
  "nbformat_minor": 0,
  "metadata": {
    "colab": {
      "provenance": [],
      "collapsed_sections": [
        "seUcMl_BqUyz",
        "kvqeG7348Zy9"
      ]
    },
    "kernelspec": {
      "name": "python3",
      "display_name": "Python 3"
    },
    "language_info": {
      "name": "python"
    }
  },
  "cells": [
    {
      "cell_type": "code",
      "execution_count": 2,
      "metadata": {
        "id": "e2IXWdcTJPf1"
      },
      "outputs": [],
      "source": [
        "import os\n",
        "import pandas as pd\n",
        "import numpy as np\n",
        "from typing import Union, List, Literal\n",
        "import seaborn as sns\n",
        "import matplotlib.pyplot as plt\n",
        "import matplotlib.cm as cm"
      ]
    },
    {
      "cell_type": "code",
      "source": [
        "from Helper_Util import *"
      ],
      "metadata": {
        "id": "ddt5s0HfNk-y"
      },
      "execution_count": 3,
      "outputs": []
    },
    {
      "cell_type": "code",
      "source": [
        "Filepath = '/content/drive/MyDrive/QoS Prediction Challenge by ITU ML in 5G Challenge'\n",
        "pd.set_option('display.max_colwidth',200)"
      ],
      "metadata": {
        "id": "sjE1IVVvnbYo"
      },
      "execution_count": 4,
      "outputs": []
    },
    {
      "cell_type": "code",
      "source": [
        "def Load_Data(file_path: str) -> List[pd.DataFrame]:\n",
        "  train = pd.read_csv(file_path+'/Train.csv')\n",
        "  test = pd.read_csv(file_path+'/Test.csv')\n",
        "  sub = pd.read_csv(file_path+'/SampleSubmission.csv')\n",
        "  variables = pd.read_csv(file_path+'/VariableDefinitions.csv')\n",
        "\n",
        "  return train, test, sub, variables\n"
      ],
      "metadata": {
        "id": "dvQAuRDKRLuH"
      },
      "execution_count": 5,
      "outputs": []
    },
    {
      "cell_type": "code",
      "source": [
        "Train, Test, Sub, Variables = Load_Data(Filepath)"
      ],
      "metadata": {
        "id": "2FIz8CAonNHC"
      },
      "execution_count": 6,
      "outputs": []
    },
    {
      "cell_type": "markdown",
      "source": [
        "### Data Exploration"
      ],
      "metadata": {
        "id": "seUcMl_BqUyz"
      }
    },
    {
      "cell_type": "code",
      "source": [
        "Train.head(3)"
      ],
      "metadata": {
        "colab": {
          "base_uri": "https://localhost:8080/",
          "height": 272
        },
        "id": "TYbkTAUEnTY1",
        "outputId": "b1770d29-077c-4a5e-9e99-d46dcd7ec82b"
      },
      "execution_count": null,
      "outputs": [
        {
          "output_type": "execute_result",
          "data": {
            "text/plain": [
              "              id   timestamp device  PCell_RSRP_max  PCell_RSRQ_max  \\\n",
              "0  Id_qt2qn56050  1624367008    pc1      -84.498750      -14.586875   \n",
              "1  Id_f1zf07cwb6  1624372465    pc3      -86.818125      -11.982500   \n",
              "2  Id_uoxdz7di5b  1624371871    pc3     -101.916250      -13.257500   \n",
              "\n",
              "   PCell_RSSI_max  PCell_SNR_max  PCell_Downlink_Num_RBs  \\\n",
              "0      -49.855625         16.457                 35076.0   \n",
              "1      -54.838125         16.674                 42704.0   \n",
              "2      -71.241250          9.392                 36017.0   \n",
              "\n",
              "   PCell_Downlink_Average_MCS  PCell_Downlink_bandwidth_MHz  ...  dewPoint  \\\n",
              "0                        23.0                          20.0  ...     13.86   \n",
              "1                        24.0                          20.0  ...     14.52   \n",
              "2                        22.0                          20.0  ...     14.71   \n",
              "\n",
              "   humidity  pressure  windSpeed  cloudCover  uvIndex  visibility  \\\n",
              "0      0.62    1013.6       2.39        0.95      4.0      16.093   \n",
              "1      0.59    1013.5       2.29        0.82      3.0      16.093   \n",
              "2      0.61    1013.8       2.13        0.82      3.0      16.093   \n",
              "\n",
              "   Traffic Jam Factor         area      target  \n",
              "0             0.38979  Residential  51500000.0  \n",
              "1             3.78322  Residential  50300000.0  \n",
              "2             2.08425  Residential  16500000.0  \n",
              "\n",
              "[3 rows x 41 columns]"
            ],
            "text/html": [
              "\n",
              "  <div id=\"df-4e8bf62b-fdac-4f99-b3a1-f0e50765b7a0\">\n",
              "    <div class=\"colab-df-container\">\n",
              "      <div>\n",
              "<style scoped>\n",
              "    .dataframe tbody tr th:only-of-type {\n",
              "        vertical-align: middle;\n",
              "    }\n",
              "\n",
              "    .dataframe tbody tr th {\n",
              "        vertical-align: top;\n",
              "    }\n",
              "\n",
              "    .dataframe thead th {\n",
              "        text-align: right;\n",
              "    }\n",
              "</style>\n",
              "<table border=\"1\" class=\"dataframe\">\n",
              "  <thead>\n",
              "    <tr style=\"text-align: right;\">\n",
              "      <th></th>\n",
              "      <th>id</th>\n",
              "      <th>timestamp</th>\n",
              "      <th>device</th>\n",
              "      <th>PCell_RSRP_max</th>\n",
              "      <th>PCell_RSRQ_max</th>\n",
              "      <th>PCell_RSSI_max</th>\n",
              "      <th>PCell_SNR_max</th>\n",
              "      <th>PCell_Downlink_Num_RBs</th>\n",
              "      <th>PCell_Downlink_Average_MCS</th>\n",
              "      <th>PCell_Downlink_bandwidth_MHz</th>\n",
              "      <th>...</th>\n",
              "      <th>dewPoint</th>\n",
              "      <th>humidity</th>\n",
              "      <th>pressure</th>\n",
              "      <th>windSpeed</th>\n",
              "      <th>cloudCover</th>\n",
              "      <th>uvIndex</th>\n",
              "      <th>visibility</th>\n",
              "      <th>Traffic Jam Factor</th>\n",
              "      <th>area</th>\n",
              "      <th>target</th>\n",
              "    </tr>\n",
              "  </thead>\n",
              "  <tbody>\n",
              "    <tr>\n",
              "      <th>0</th>\n",
              "      <td>Id_qt2qn56050</td>\n",
              "      <td>1624367008</td>\n",
              "      <td>pc1</td>\n",
              "      <td>-84.498750</td>\n",
              "      <td>-14.586875</td>\n",
              "      <td>-49.855625</td>\n",
              "      <td>16.457</td>\n",
              "      <td>35076.0</td>\n",
              "      <td>23.0</td>\n",
              "      <td>20.0</td>\n",
              "      <td>...</td>\n",
              "      <td>13.86</td>\n",
              "      <td>0.62</td>\n",
              "      <td>1013.6</td>\n",
              "      <td>2.39</td>\n",
              "      <td>0.95</td>\n",
              "      <td>4.0</td>\n",
              "      <td>16.093</td>\n",
              "      <td>0.38979</td>\n",
              "      <td>Residential</td>\n",
              "      <td>51500000.0</td>\n",
              "    </tr>\n",
              "    <tr>\n",
              "      <th>1</th>\n",
              "      <td>Id_f1zf07cwb6</td>\n",
              "      <td>1624372465</td>\n",
              "      <td>pc3</td>\n",
              "      <td>-86.818125</td>\n",
              "      <td>-11.982500</td>\n",
              "      <td>-54.838125</td>\n",
              "      <td>16.674</td>\n",
              "      <td>42704.0</td>\n",
              "      <td>24.0</td>\n",
              "      <td>20.0</td>\n",
              "      <td>...</td>\n",
              "      <td>14.52</td>\n",
              "      <td>0.59</td>\n",
              "      <td>1013.5</td>\n",
              "      <td>2.29</td>\n",
              "      <td>0.82</td>\n",
              "      <td>3.0</td>\n",
              "      <td>16.093</td>\n",
              "      <td>3.78322</td>\n",
              "      <td>Residential</td>\n",
              "      <td>50300000.0</td>\n",
              "    </tr>\n",
              "    <tr>\n",
              "      <th>2</th>\n",
              "      <td>Id_uoxdz7di5b</td>\n",
              "      <td>1624371871</td>\n",
              "      <td>pc3</td>\n",
              "      <td>-101.916250</td>\n",
              "      <td>-13.257500</td>\n",
              "      <td>-71.241250</td>\n",
              "      <td>9.392</td>\n",
              "      <td>36017.0</td>\n",
              "      <td>22.0</td>\n",
              "      <td>20.0</td>\n",
              "      <td>...</td>\n",
              "      <td>14.71</td>\n",
              "      <td>0.61</td>\n",
              "      <td>1013.8</td>\n",
              "      <td>2.13</td>\n",
              "      <td>0.82</td>\n",
              "      <td>3.0</td>\n",
              "      <td>16.093</td>\n",
              "      <td>2.08425</td>\n",
              "      <td>Residential</td>\n",
              "      <td>16500000.0</td>\n",
              "    </tr>\n",
              "  </tbody>\n",
              "</table>\n",
              "<p>3 rows × 41 columns</p>\n",
              "</div>\n",
              "      <button class=\"colab-df-convert\" onclick=\"convertToInteractive('df-4e8bf62b-fdac-4f99-b3a1-f0e50765b7a0')\"\n",
              "              title=\"Convert this dataframe to an interactive table.\"\n",
              "              style=\"display:none;\">\n",
              "        \n",
              "  <svg xmlns=\"http://www.w3.org/2000/svg\" height=\"24px\"viewBox=\"0 0 24 24\"\n",
              "       width=\"24px\">\n",
              "    <path d=\"M0 0h24v24H0V0z\" fill=\"none\"/>\n",
              "    <path d=\"M18.56 5.44l.94 2.06.94-2.06 2.06-.94-2.06-.94-.94-2.06-.94 2.06-2.06.94zm-11 1L8.5 8.5l.94-2.06 2.06-.94-2.06-.94L8.5 2.5l-.94 2.06-2.06.94zm10 10l.94 2.06.94-2.06 2.06-.94-2.06-.94-.94-2.06-.94 2.06-2.06.94z\"/><path d=\"M17.41 7.96l-1.37-1.37c-.4-.4-.92-.59-1.43-.59-.52 0-1.04.2-1.43.59L10.3 9.45l-7.72 7.72c-.78.78-.78 2.05 0 2.83L4 21.41c.39.39.9.59 1.41.59.51 0 1.02-.2 1.41-.59l7.78-7.78 2.81-2.81c.8-.78.8-2.07 0-2.86zM5.41 20L4 18.59l7.72-7.72 1.47 1.35L5.41 20z\"/>\n",
              "  </svg>\n",
              "      </button>\n",
              "      \n",
              "  <style>\n",
              "    .colab-df-container {\n",
              "      display:flex;\n",
              "      flex-wrap:wrap;\n",
              "      gap: 12px;\n",
              "    }\n",
              "\n",
              "    .colab-df-convert {\n",
              "      background-color: #E8F0FE;\n",
              "      border: none;\n",
              "      border-radius: 50%;\n",
              "      cursor: pointer;\n",
              "      display: none;\n",
              "      fill: #1967D2;\n",
              "      height: 32px;\n",
              "      padding: 0 0 0 0;\n",
              "      width: 32px;\n",
              "    }\n",
              "\n",
              "    .colab-df-convert:hover {\n",
              "      background-color: #E2EBFA;\n",
              "      box-shadow: 0px 1px 2px rgba(60, 64, 67, 0.3), 0px 1px 3px 1px rgba(60, 64, 67, 0.15);\n",
              "      fill: #174EA6;\n",
              "    }\n",
              "\n",
              "    [theme=dark] .colab-df-convert {\n",
              "      background-color: #3B4455;\n",
              "      fill: #D2E3FC;\n",
              "    }\n",
              "\n",
              "    [theme=dark] .colab-df-convert:hover {\n",
              "      background-color: #434B5C;\n",
              "      box-shadow: 0px 1px 3px 1px rgba(0, 0, 0, 0.15);\n",
              "      filter: drop-shadow(0px 1px 2px rgba(0, 0, 0, 0.3));\n",
              "      fill: #FFFFFF;\n",
              "    }\n",
              "  </style>\n",
              "\n",
              "      <script>\n",
              "        const buttonEl =\n",
              "          document.querySelector('#df-4e8bf62b-fdac-4f99-b3a1-f0e50765b7a0 button.colab-df-convert');\n",
              "        buttonEl.style.display =\n",
              "          google.colab.kernel.accessAllowed ? 'block' : 'none';\n",
              "\n",
              "        async function convertToInteractive(key) {\n",
              "          const element = document.querySelector('#df-4e8bf62b-fdac-4f99-b3a1-f0e50765b7a0');\n",
              "          const dataTable =\n",
              "            await google.colab.kernel.invokeFunction('convertToInteractive',\n",
              "                                                     [key], {});\n",
              "          if (!dataTable) return;\n",
              "\n",
              "          const docLinkHtml = 'Like what you see? Visit the ' +\n",
              "            '<a target=\"_blank\" href=https://colab.research.google.com/notebooks/data_table.ipynb>data table notebook</a>'\n",
              "            + ' to learn more about interactive tables.';\n",
              "          element.innerHTML = '';\n",
              "          dataTable['output_type'] = 'display_data';\n",
              "          await google.colab.output.renderOutput(dataTable, element);\n",
              "          const docLink = document.createElement('div');\n",
              "          docLink.innerHTML = docLinkHtml;\n",
              "          element.appendChild(docLink);\n",
              "        }\n",
              "      </script>\n",
              "    </div>\n",
              "  </div>\n",
              "  "
            ]
          },
          "metadata": {},
          "execution_count": 28
        }
      ]
    },
    {
      "cell_type": "code",
      "source": [
        "Test.head(3)"
      ],
      "metadata": {
        "colab": {
          "base_uri": "https://localhost:8080/",
          "height": 272
        },
        "id": "BwNVwCAlpX5F",
        "outputId": "4507a43f-bc90-4aa4-95b3-d28a7935defc"
      },
      "execution_count": null,
      "outputs": [
        {
          "output_type": "execute_result",
          "data": {
            "text/plain": [
              "              id   timestamp device  PCell_RSRP_max  PCell_RSRQ_max  \\\n",
              "0  Id_ln0e0hfrgx  1624374179    pc2      -97.121875      -12.923750   \n",
              "1  Id_svf7nz9fxv  1624366264    pc4      -65.202500       -9.944375   \n",
              "2  Id_ww2mh07gwj  1624375795    pc2      -79.298125      -17.468750   \n",
              "\n",
              "   PCell_RSSI_max  PCell_SNR_max  PCell_Downlink_Num_RBs  \\\n",
              "0      -87.554375         13.293                 39276.0   \n",
              "1      -35.501875         21.823                 39566.0   \n",
              "2      -74.823750         24.114                 41900.0   \n",
              "\n",
              "   PCell_Downlink_Average_MCS  PCell_Downlink_bandwidth_MHz  ...  \\\n",
              "0                        24.0                            20  ...   \n",
              "1                        25.0                            20  ...   \n",
              "2                        27.0                            20  ...   \n",
              "\n",
              "   apparentTemperature  dewPoint  humidity  pressure  windSpeed  cloudCover  \\\n",
              "0                23.05     14.55      0.59    1013.6       2.27        0.83   \n",
              "1                21.56     13.92      0.62    1013.6       2.42        0.95   \n",
              "2                22.93     14.65      0.60    1013.5       2.26        0.85   \n",
              "\n",
              "   uvIndex  visibility  Traffic Jam Factor    area  \n",
              "0      3.0      16.093             3.07702  Avenue  \n",
              "1      4.0      16.093             0.66000    Park  \n",
              "2      3.0      16.093             2.49330    Park  \n",
              "\n",
              "[3 rows x 40 columns]"
            ],
            "text/html": [
              "\n",
              "  <div id=\"df-46fc50c4-124a-40ed-b990-5fcdf49e91da\">\n",
              "    <div class=\"colab-df-container\">\n",
              "      <div>\n",
              "<style scoped>\n",
              "    .dataframe tbody tr th:only-of-type {\n",
              "        vertical-align: middle;\n",
              "    }\n",
              "\n",
              "    .dataframe tbody tr th {\n",
              "        vertical-align: top;\n",
              "    }\n",
              "\n",
              "    .dataframe thead th {\n",
              "        text-align: right;\n",
              "    }\n",
              "</style>\n",
              "<table border=\"1\" class=\"dataframe\">\n",
              "  <thead>\n",
              "    <tr style=\"text-align: right;\">\n",
              "      <th></th>\n",
              "      <th>id</th>\n",
              "      <th>timestamp</th>\n",
              "      <th>device</th>\n",
              "      <th>PCell_RSRP_max</th>\n",
              "      <th>PCell_RSRQ_max</th>\n",
              "      <th>PCell_RSSI_max</th>\n",
              "      <th>PCell_SNR_max</th>\n",
              "      <th>PCell_Downlink_Num_RBs</th>\n",
              "      <th>PCell_Downlink_Average_MCS</th>\n",
              "      <th>PCell_Downlink_bandwidth_MHz</th>\n",
              "      <th>...</th>\n",
              "      <th>apparentTemperature</th>\n",
              "      <th>dewPoint</th>\n",
              "      <th>humidity</th>\n",
              "      <th>pressure</th>\n",
              "      <th>windSpeed</th>\n",
              "      <th>cloudCover</th>\n",
              "      <th>uvIndex</th>\n",
              "      <th>visibility</th>\n",
              "      <th>Traffic Jam Factor</th>\n",
              "      <th>area</th>\n",
              "    </tr>\n",
              "  </thead>\n",
              "  <tbody>\n",
              "    <tr>\n",
              "      <th>0</th>\n",
              "      <td>Id_ln0e0hfrgx</td>\n",
              "      <td>1624374179</td>\n",
              "      <td>pc2</td>\n",
              "      <td>-97.121875</td>\n",
              "      <td>-12.923750</td>\n",
              "      <td>-87.554375</td>\n",
              "      <td>13.293</td>\n",
              "      <td>39276.0</td>\n",
              "      <td>24.0</td>\n",
              "      <td>20</td>\n",
              "      <td>...</td>\n",
              "      <td>23.05</td>\n",
              "      <td>14.55</td>\n",
              "      <td>0.59</td>\n",
              "      <td>1013.6</td>\n",
              "      <td>2.27</td>\n",
              "      <td>0.83</td>\n",
              "      <td>3.0</td>\n",
              "      <td>16.093</td>\n",
              "      <td>3.07702</td>\n",
              "      <td>Avenue</td>\n",
              "    </tr>\n",
              "    <tr>\n",
              "      <th>1</th>\n",
              "      <td>Id_svf7nz9fxv</td>\n",
              "      <td>1624366264</td>\n",
              "      <td>pc4</td>\n",
              "      <td>-65.202500</td>\n",
              "      <td>-9.944375</td>\n",
              "      <td>-35.501875</td>\n",
              "      <td>21.823</td>\n",
              "      <td>39566.0</td>\n",
              "      <td>25.0</td>\n",
              "      <td>20</td>\n",
              "      <td>...</td>\n",
              "      <td>21.56</td>\n",
              "      <td>13.92</td>\n",
              "      <td>0.62</td>\n",
              "      <td>1013.6</td>\n",
              "      <td>2.42</td>\n",
              "      <td>0.95</td>\n",
              "      <td>4.0</td>\n",
              "      <td>16.093</td>\n",
              "      <td>0.66000</td>\n",
              "      <td>Park</td>\n",
              "    </tr>\n",
              "    <tr>\n",
              "      <th>2</th>\n",
              "      <td>Id_ww2mh07gwj</td>\n",
              "      <td>1624375795</td>\n",
              "      <td>pc2</td>\n",
              "      <td>-79.298125</td>\n",
              "      <td>-17.468750</td>\n",
              "      <td>-74.823750</td>\n",
              "      <td>24.114</td>\n",
              "      <td>41900.0</td>\n",
              "      <td>27.0</td>\n",
              "      <td>20</td>\n",
              "      <td>...</td>\n",
              "      <td>22.93</td>\n",
              "      <td>14.65</td>\n",
              "      <td>0.60</td>\n",
              "      <td>1013.5</td>\n",
              "      <td>2.26</td>\n",
              "      <td>0.85</td>\n",
              "      <td>3.0</td>\n",
              "      <td>16.093</td>\n",
              "      <td>2.49330</td>\n",
              "      <td>Park</td>\n",
              "    </tr>\n",
              "  </tbody>\n",
              "</table>\n",
              "<p>3 rows × 40 columns</p>\n",
              "</div>\n",
              "      <button class=\"colab-df-convert\" onclick=\"convertToInteractive('df-46fc50c4-124a-40ed-b990-5fcdf49e91da')\"\n",
              "              title=\"Convert this dataframe to an interactive table.\"\n",
              "              style=\"display:none;\">\n",
              "        \n",
              "  <svg xmlns=\"http://www.w3.org/2000/svg\" height=\"24px\"viewBox=\"0 0 24 24\"\n",
              "       width=\"24px\">\n",
              "    <path d=\"M0 0h24v24H0V0z\" fill=\"none\"/>\n",
              "    <path d=\"M18.56 5.44l.94 2.06.94-2.06 2.06-.94-2.06-.94-.94-2.06-.94 2.06-2.06.94zm-11 1L8.5 8.5l.94-2.06 2.06-.94-2.06-.94L8.5 2.5l-.94 2.06-2.06.94zm10 10l.94 2.06.94-2.06 2.06-.94-2.06-.94-.94-2.06-.94 2.06-2.06.94z\"/><path d=\"M17.41 7.96l-1.37-1.37c-.4-.4-.92-.59-1.43-.59-.52 0-1.04.2-1.43.59L10.3 9.45l-7.72 7.72c-.78.78-.78 2.05 0 2.83L4 21.41c.39.39.9.59 1.41.59.51 0 1.02-.2 1.41-.59l7.78-7.78 2.81-2.81c.8-.78.8-2.07 0-2.86zM5.41 20L4 18.59l7.72-7.72 1.47 1.35L5.41 20z\"/>\n",
              "  </svg>\n",
              "      </button>\n",
              "      \n",
              "  <style>\n",
              "    .colab-df-container {\n",
              "      display:flex;\n",
              "      flex-wrap:wrap;\n",
              "      gap: 12px;\n",
              "    }\n",
              "\n",
              "    .colab-df-convert {\n",
              "      background-color: #E8F0FE;\n",
              "      border: none;\n",
              "      border-radius: 50%;\n",
              "      cursor: pointer;\n",
              "      display: none;\n",
              "      fill: #1967D2;\n",
              "      height: 32px;\n",
              "      padding: 0 0 0 0;\n",
              "      width: 32px;\n",
              "    }\n",
              "\n",
              "    .colab-df-convert:hover {\n",
              "      background-color: #E2EBFA;\n",
              "      box-shadow: 0px 1px 2px rgba(60, 64, 67, 0.3), 0px 1px 3px 1px rgba(60, 64, 67, 0.15);\n",
              "      fill: #174EA6;\n",
              "    }\n",
              "\n",
              "    [theme=dark] .colab-df-convert {\n",
              "      background-color: #3B4455;\n",
              "      fill: #D2E3FC;\n",
              "    }\n",
              "\n",
              "    [theme=dark] .colab-df-convert:hover {\n",
              "      background-color: #434B5C;\n",
              "      box-shadow: 0px 1px 3px 1px rgba(0, 0, 0, 0.15);\n",
              "      filter: drop-shadow(0px 1px 2px rgba(0, 0, 0, 0.3));\n",
              "      fill: #FFFFFF;\n",
              "    }\n",
              "  </style>\n",
              "\n",
              "      <script>\n",
              "        const buttonEl =\n",
              "          document.querySelector('#df-46fc50c4-124a-40ed-b990-5fcdf49e91da button.colab-df-convert');\n",
              "        buttonEl.style.display =\n",
              "          google.colab.kernel.accessAllowed ? 'block' : 'none';\n",
              "\n",
              "        async function convertToInteractive(key) {\n",
              "          const element = document.querySelector('#df-46fc50c4-124a-40ed-b990-5fcdf49e91da');\n",
              "          const dataTable =\n",
              "            await google.colab.kernel.invokeFunction('convertToInteractive',\n",
              "                                                     [key], {});\n",
              "          if (!dataTable) return;\n",
              "\n",
              "          const docLinkHtml = 'Like what you see? Visit the ' +\n",
              "            '<a target=\"_blank\" href=https://colab.research.google.com/notebooks/data_table.ipynb>data table notebook</a>'\n",
              "            + ' to learn more about interactive tables.';\n",
              "          element.innerHTML = '';\n",
              "          dataTable['output_type'] = 'display_data';\n",
              "          await google.colab.output.renderOutput(dataTable, element);\n",
              "          const docLink = document.createElement('div');\n",
              "          docLink.innerHTML = docLinkHtml;\n",
              "          element.appendChild(docLink);\n",
              "        }\n",
              "      </script>\n",
              "    </div>\n",
              "  </div>\n",
              "  "
            ]
          },
          "metadata": {},
          "execution_count": 29
        }
      ]
    },
    {
      "cell_type": "code",
      "source": [
        "Train.select_dtypes(include=['object']).columns\n",
        "Test.select_dtypes(include=['object']).columns"
      ],
      "metadata": {
        "colab": {
          "base_uri": "https://localhost:8080/"
        },
        "id": "ErMajNLspd4G",
        "outputId": "fe145c4c-c288-4125-ec8d-b7d25d8caac6"
      },
      "execution_count": null,
      "outputs": [
        {
          "output_type": "execute_result",
          "data": {
            "text/plain": [
              "Index(['id', 'device', 'area'], dtype='object')"
            ]
          },
          "metadata": {},
          "execution_count": 30
        }
      ]
    },
    {
      "cell_type": "code",
      "source": [
        "missing_values = Train.isna().sum()/ Train.shape[0]\n",
        "missing_values = missing_values.sort_values(ascending=False)\n",
        "\n",
        "\n",
        "# Normalize the data to be between 0 and 1\n",
        "norm = plt.Normalize(missing_values.values.min(), missing_values.values.max())\n",
        "# Create a colormap\n",
        "cmap = cm.ScalarMappable(norm=norm, cmap='Blues')\n",
        "# Generate colors for each bar\n",
        "colors = [cmap.to_rgba(val) for val in missing_values.values]\n",
        "\n",
        "# Create bar plot of missing values\n",
        "plt.figure(figsize=(10,5))\n",
        "plt.bar(missing_values.index, missing_values.values, color=colors)\n",
        "plt.xticks(rotation=90)\n",
        "plt.xlabel('Column')\n",
        "plt.ylabel('Number of Missing Values')\n",
        "plt.title('Missing Values per Column')\n",
        "plt.show()\n",
        "\n"
      ],
      "metadata": {
        "colab": {
          "base_uri": "https://localhost:8080/",
          "height": 696
        },
        "id": "kFW7i6M340j0",
        "outputId": "116e4951-ea17-4c22-ff3b-ce5d48f22dfc"
      },
      "execution_count": null,
      "outputs": [
        {
          "output_type": "display_data",
          "data": {
            "text/plain": [
              "<Figure size 1000x500 with 1 Axes>"
            ],
            "image/png": "[encoded data removed]"
          },
          "metadata": {}
        }
      ]
    },
    {
      "cell_type": "code",
      "source": [
        "missing_values = Test.isna().sum()/ Test.shape[0]\n",
        "missing_values = missing_values.sort_values(ascending=False)\n",
        "import matplotlib.cm as cm\n",
        "\n",
        "# Normalize the data to be between 0 and 1\n",
        "norm = plt.Normalize(missing_values.values.min(), missing_values.values.max())\n",
        "# Create a colormap\n",
        "cmap = cm.ScalarMappable(norm=norm, cmap='Blues')\n",
        "# Generate colors for each bar\n",
        "colors = [cmap.to_rgba(val) for val in missing_values.values]\n",
        "\n",
        "# Create bar plot of missing values\n",
        "plt.figure(figsize=(10,5))\n",
        "plt.bar(missing_values.index, missing_values.values, color=colors)\n",
        "plt.xticks(rotation=90)\n",
        "plt.xlabel('Column')\n",
        "plt.ylabel('Number of Missing Values')\n",
        "plt.title('Missing Values per Column')\n",
        "plt.show()"
      ],
      "metadata": {
        "colab": {
          "base_uri": "https://localhost:8080/",
          "height": 696
        },
        "id": "7dQ5wi4J5ely",
        "outputId": "8210b5ea-ddd4-45fc-c9a2-bc140caec8f6"
      },
      "execution_count": null,
      "outputs": [
        {
          "output_type": "display_data",
          "data": {
            "text/plain": [
              "<Figure size 1000x500 with 1 Axes>"
            ],
            "image/png": "[encoded data removed]"
          },
          "metadata": {}
        }
      ]
    },
    {
      "cell_type": "markdown",
      "source": [
        "SCELLS_ have the most missing values"
      ],
      "metadata": {
        "id": "1C783Qbr76RJ"
      }
    },
    {
      "cell_type": "markdown",
      "source": [
        "###Baseline Score"
      ],
      "metadata": {
        "id": "FO27LAYe_8Nm"
      }
    },
    {
      "cell_type": "code",
      "source": [
        "from sklearn.metrics import mean_absolute_error, mean_squared_error\n",
        "from sklearn.model_selection import KFold, train_test_split\n",
        "from xgboost import XGBRegressor\n",
        "from lightgbm import LGBMRegressor\n",
        "from sklearn.ensemble import RandomForestRegressor\n",
        "from sklearn.preprocessing import OrdinalEncoder\n",
        "from sklearn.impute import SimpleImputer\n",
        "from sklearn.preprocessing import StandardScaler, MinMaxScaler\n",
        "from abc import ABC, abstractmethod\n",
        "import random"
      ],
      "metadata": {
        "id": "PaXOhfef_-Gh"
      },
      "execution_count": 7,
      "outputs": []
    },
    {
      "cell_type": "code",
      "source": [
        "!pip install catboost -q\n",
        "from catboost import CatBoostRegressor"
      ],
      "metadata": {
        "id": "dXT99fZIBH8t",
        "colab": {
          "base_uri": "https://localhost:8080/"
        },
        "outputId": "f6805670-1f3d-432e-bfa1-692db726eb7d"
      },
      "execution_count": 8,
      "outputs": [
        {
          "output_type": "stream",
          "name": "stdout",
          "text": [
            "\u001b[2K     \u001b[90m━━━━━━━━━━━━━━━━━━━━━━━━━━━━━━━━━━━━━━━━\u001b[0m \u001b[32m98.6/98.6 MB\u001b[0m \u001b[31m9.0 MB/s\u001b[0m eta \u001b[36m0:00:00\u001b[0m\n",
            "\u001b[?25h"
          ]
        }
      ]
    },
    {
      "cell_type": "code",
      "source": [
        "Sscaler = StandardScaler()\n",
        "Mmscaler = MinMaxScaler()\n",
        "rfr = RandomForestRegressor()\n",
        "xgb = XGBRegressor()\n",
        "cbc = CatBoostRegressor()\n",
        "lgb = LGBMRegressor()\n",
        "mse = mean_squared_error"
      ],
      "metadata": {
        "id": "adS5r0bfBIj4"
      },
      "execution_count": 9,
      "outputs": []
    },
    {
      "cell_type": "code",
      "source": [
        "class Baseline_score():\n",
        "  def __init__(\n",
        "      self,\n",
        "      train: pd.DataFrame,\n",
        "      model: Union[XGBRegressor, LGBMRegressor, CatBoostRegressor,RandomForestRegressor],\n",
        "      scaler: Union[StandardScaler, MinMaxScaler, None] = None,\n",
        "      split_method: Literal[\"KFold\", \"train_test_split\"] = \"KFold\",\n",
        "      num_split = 5,\n",
        "      random_seed = 42,\n",
        "      VERBOSE: Literal[True,False] = False\n",
        "  ):\n",
        "    if not isinstance(model, (XGBRegressor, LGBMRegressor, CatBoostRegressor,RandomForestRegressor)):\n",
        "      raise TypeError(\"model must be a class of either XGBRegressor, LGBMRegressor, CatBoostRegressor, or LinearRegression\")\n",
        "    if scaler is not None and not isinstance(scaler, (StandardScaler, MinMaxScaler)):\n",
        "        raise TypeError(\"scaler must be a class of either StandardScaler, MinMaxScaler or None\")\n",
        "    if not isinstance(train, pd.DataFrame):\n",
        "      raise TypeError(\"train must be a DataFrame\")\n",
        "\n",
        "    self.train = train\n",
        "    self.model = model\n",
        "    self.scaler = scaler\n",
        "    self.split = split_method\n",
        "    self.num_split = num_split\n",
        "    self.seed = random_seed\n",
        "    self.VERBOSE = VERBOSE\n",
        "    self.feature_importances = None\n",
        "    random.seed(random_seed)\n",
        "    np.random.seed(random_seed)\n",
        "\n",
        "  def run(self)-> float:\n",
        "    X = self.train.iloc[:,:-1]\n",
        "    self.feature_importances = np.zeros(X.shape[1])\n",
        "    y = self.train.iloc[:,-1]\n",
        "\n",
        "    if self.split == \"train_test_split\":\n",
        "      X_train, X_test, y_train, y_test = train_test_split(X, y, test_size=0.2, random_state=self.seed)\n",
        "      if self.scaler != None:\n",
        "        X_train, X_test = self.scaler.fit_transform(X_train), self.scaler.fit_transform(X_test)\n",
        "      if isinstance(self.model, CatBoostRegressor):\n",
        "        self.model.fit(X_train,y_train,verbose=False)\n",
        "      else:\n",
        "        self.model.fit(X_train,y_train)\n",
        "      self.feature_importances += self.model.feature_importances_\n",
        "      preds = self.model.predict(X_test)\n",
        "      if self.VERBOSE:\n",
        "        print(f\"split: {(self.split).upper()}\")\n",
        "        print(f\"RMSE {mean_squared_error(y_test,preds,squared=False)}\")\n",
        "        print(f\"MAE {mean_absolute_error(y_test,preds)}\")\n",
        "        print(f\"MSE {mean_squared_error(y_test,preds)}\")\n",
        "      score = mean_squared_error(y_test,preds,squared=False)\n",
        "      return score\n",
        "\n",
        "    else:\n",
        "      fold = KFold(n_splits=self.num_split)\n",
        "      oof_f1 = []\n",
        "      i = 1\n",
        "      for train_index, test_index in fold.split(X, y):\n",
        "        X_train, X_test = X.iloc[train_index],X.iloc[test_index]\n",
        "        y_train, y_test = y.iloc[train_index],y.iloc[test_index]\n",
        "        if self.scaler != None:\n",
        "          X_train, X_test = self.scaler.fit_transform(X_train), self.scaler.fit_transform(X_test)\n",
        "        if isinstance(self.model, CatBoostRegressor):\n",
        "          self.model.fit(X_train,y_train,verbose=False)\n",
        "        else:\n",
        "          self.model.fit(X_train,y_train)\n",
        "        self.feature_importances += self.model.feature_importances_\n",
        "        preds=self.model.predict(X_test)\n",
        "        if self.VERBOSE:\n",
        "          print(f\"split {self.split}{i}\")\n",
        "          print(f\"RMSE {mean_squared_error(y_test,preds,squared=False)}\")\n",
        "          print(f\"MAE {mean_absolute_error(y_test,preds)}\")\n",
        "          print(f\"MSE {mean_squared_error(y_test,preds)}\\n\")\n",
        "        oof_f1.append(mean_squared_error(y_test,preds,squared=False))\n",
        "        i += 1\n",
        "\n",
        "      self.feature_importances = self.feature_importances / self.num_split\n",
        "      score = sum(oof_f1)/self.num_split\n",
        "      return score\n",
        "\n",
        "  def plot_features(self, n_features=20):\n",
        "    X = self.train.iloc[:,:-1]\n",
        "    features = pd.DataFrame({'feature': list(X.columns),\n",
        "                             'importance': self.feature_importances}).sort_values('importance', ascending = True)\n",
        "    norm = plt.Normalize(features['importance'][:n_features].min(), features['importance'][:n_features].max())\n",
        "    cmap = cm.ScalarMappable(norm=norm, cmap='Reds')\n",
        "    colors = [cmap.to_rgba(val) for val in features['importance'][:n_features].values]\n",
        "    plt.figure(figsize=(25,10))\n",
        "    plt.barh(features['feature'][:n_features],features['importance'][:n_features], color=colors)\n",
        "    plt.xlabel('Importance')\n",
        "    plt.ylabel('Feature')\n",
        "    plt.title('Feature Importances')\n",
        "    plt.show()\n",
        "\n",
        "\n"
      ],
      "metadata": {
        "id": "M8l4yOgYDgVw"
      },
      "execution_count": 183,
      "outputs": []
    },
    {
      "cell_type": "code",
      "source": [
        "class Baseline_predict(Baseline_score):\n",
        "  def __init__(self, *args, **kwargs):\n",
        "    super().__init__(*args, **kwargs)\n",
        "    self.preds = None\n",
        "\n",
        "  def predict(self, test):\n",
        "    X = self.train.iloc[:,:-1]\n",
        "    y = self.train.iloc[:,-1]\n",
        "\n",
        "    if self.split == \"train_test_split\":\n",
        "      X_train, X_test, y_train, y_test = train_test_split(X, y, test_size=0.1, random_state=self.seed)\n",
        "      if self.scaler != None:\n",
        "        X_train, X_test = self.scaler.fit_transform(X_train), self.scaler.fit_transform(X_test)\n",
        "      if isinstance(self.model, CatBoostRegressor):\n",
        "        self.model.fit(X_train,y_train,verbose=False)\n",
        "      else:\n",
        "        self.model.fit(X_train,y_train)\n",
        "      self.preds = self.model.predict(test)\n",
        "      print(f\"split: {(self.split).upper()}\")\n",
        "      return self.preds\n",
        "\n",
        "    else:\n",
        "      fold = KFold(n_splits=self.num_split)\n",
        "      oof_preds = []\n",
        "      i = 1\n",
        "      for train_index, test_index in fold.split(X, y):\n",
        "        X_train, X_test = X.iloc[train_index],X.iloc[test_index]\n",
        "        y_train, y_test = y.iloc[train_index],y.iloc[test_index]\n",
        "        if self.scaler != None:\n",
        "          X_train, X_test = self.scaler.fit_transform(X_train), self.scaler.fit_transform(X_test)\n",
        "        if isinstance(self.model, CatBoostRegressor):\n",
        "          self.model.fit(X_train,y_train,verbose=False)\n",
        "        else:\n",
        "          self.model.fit(X_train,y_train)\n",
        "        pred=self.model.predict(test)\n",
        "        if self.VERBOSE:\n",
        "          print(f\"split {self.split}{i}\")\n",
        "        oof_preds.append(pred)\n",
        "        i += 1\n",
        "\n",
        "      self.preds = oof_preds\n",
        "      return self.preds\n",
        "\n",
        "  def submission(self, test):\n",
        "    pres = self.preds\n",
        "    if self.split == 'KFold':\n",
        "      final_preds = sum(pres)/self.num_split\n",
        "    else:\n",
        "      final_preds = pres\n",
        "    predictions_df = pd.DataFrame({'id': test.id, 'target': final_preds})\n",
        "    return predictions_df\n",
        "\n",
        "\n"
      ],
      "metadata": {
        "id": "mfctnAH-VFrD"
      },
      "execution_count": 11,
      "outputs": []
    },
    {
      "cell_type": "code",
      "source": [
        "TT = Train.drop(['id','device'],axis=1)\n",
        "tests = Test.drop(['id','device'], axis=1)\n",
        "#TT['device'] = TT['device'].map({'pc1':1,'pc3':2})\n",
        "#TT['area'] = TT['area'].map({'Residential':1,'Avenue':2,'Park':3,'Highway':4,'Tunnel':5})\n",
        "categorical_features = ['area']\n",
        "oe = OrdinalEncoder()\n",
        "tests['area'] = oe.fit_transform(tests[['area']])\n",
        "TT['area'] = oe.fit_transform(TT[['area']])\n",
        "tests.fillna(0, inplace=True)\n",
        "TT.fillna(0, inplace=True)"
      ],
      "metadata": {
        "id": "AtYuE_l7idjd"
      },
      "execution_count": 12,
      "outputs": []
    },
    {
      "cell_type": "code",
      "source": [
        "Baseline = Baseline_score(train=TT,model=cbc,split_method='train_test_split',num_split=5,VERBOSE=False,random_seed=0)\n",
        "lgb_score = Baseline.run()\n",
        "print(f\"CV_RMSE_Score:{lgb_score}\")"
      ],
      "metadata": {
        "colab": {
          "base_uri": "https://localhost:8080/"
        },
        "id": "vgRA3MndfEkp",
        "outputId": "8153b0d0-079f-440f-94ae-6397404a9ba0"
      },
      "execution_count": 19,
      "outputs": [
        {
          "output_type": "stream",
          "name": "stdout",
          "text": [
            "split: TRAIN_TEST_SPLIT\n",
            "RMSE 9179345.782428382\n",
            "MAE 5819329.424974657\n",
            "MSE 84260388993385.72\n",
            "CV_RMSE_Score:9179345.782428382\n"
          ]
        }
      ]
    },
    {
      "cell_type": "code",
      "source": [
        "predictions = Baseline_predict(train=TT,model=cbc,split_method='train_test_split',VERBOSE=False,random_seed=0)\n",
        "predict = predictions.predict(tests)\n",
        "preds = predictions.submission(Test)"
      ],
      "metadata": {
        "colab": {
          "base_uri": "https://localhost:8080/"
        },
        "id": "ZHq1QeWm5IiM",
        "outputId": "5c7e6ef8-d43e-4bdd-b125-edbf35d6fbf2"
      },
      "execution_count": 20,
      "outputs": [
        {
          "output_type": "stream",
          "name": "stdout",
          "text": [
            "split: TRAIN_TEST_SPLIT\n"
          ]
        }
      ]
    },
    {
      "cell_type": "code",
      "source": [
        "Test['target'] = 'Test'\n",
        "data = pd.concat([Train,Test]).reset_index(drop=True)"
      ],
      "metadata": {
        "id": "-Itz-Fq-6r2r"
      },
      "execution_count": 324,
      "outputs": []
    },
    {
      "cell_type": "markdown",
      "source": [
        "###Data Visualization\n"
      ],
      "metadata": {
        "id": "kvqeG7348Zy9"
      }
    },
    {
      "cell_type": "code",
      "source": [
        "data.head(3)"
      ],
      "metadata": {
        "colab": {
          "base_uri": "https://localhost:8080/",
          "height": 272
        },
        "id": "FnIIVy_W8kmh",
        "outputId": "36a58a47-7cc8-461c-d756-4ea02d18200e"
      },
      "execution_count": 13,
      "outputs": [
        {
          "output_type": "execute_result",
          "data": {
            "text/plain": [
              "              id   timestamp device  PCell_RSRP_max  PCell_RSRQ_max  \\\n",
              "0  Id_qt2qn56050  1624367008    pc1      -84.498750      -14.586875   \n",
              "1  Id_f1zf07cwb6  1624372465    pc3      -86.818125      -11.982500   \n",
              "2  Id_uoxdz7di5b  1624371871    pc3     -101.916250      -13.257500   \n",
              "\n",
              "   PCell_RSSI_max  PCell_SNR_max  PCell_Downlink_Num_RBs  \\\n",
              "0      -49.855625         16.457                 35076.0   \n",
              "1      -54.838125         16.674                 42704.0   \n",
              "2      -71.241250          9.392                 36017.0   \n",
              "\n",
              "   PCell_Downlink_Average_MCS  PCell_Downlink_bandwidth_MHz  ...  dewPoint  \\\n",
              "0                        23.0                          20.0  ...     13.86   \n",
              "1                        24.0                          20.0  ...     14.52   \n",
              "2                        22.0                          20.0  ...     14.71   \n",
              "\n",
              "   humidity  pressure  windSpeed  cloudCover  uvIndex  visibility  \\\n",
              "0      0.62    1013.6       2.39        0.95      4.0      16.093   \n",
              "1      0.59    1013.5       2.29        0.82      3.0      16.093   \n",
              "2      0.61    1013.8       2.13        0.82      3.0      16.093   \n",
              "\n",
              "   Traffic Jam Factor         area      target  \n",
              "0             0.38979  Residential  51500000.0  \n",
              "1             3.78322  Residential  50300000.0  \n",
              "2             2.08425  Residential  16500000.0  \n",
              "\n",
              "[3 rows x 41 columns]"
            ],
            "text/html": [
              "\n",
              "  <div id=\"df-920cfc9f-e90e-40e0-b817-306d6f2443d8\">\n",
              "    <div class=\"colab-df-container\">\n",
              "      <div>\n",
              "<style scoped>\n",
              "    .dataframe tbody tr th:only-of-type {\n",
              "        vertical-align: middle;\n",
              "    }\n",
              "\n",
              "    .dataframe tbody tr th {\n",
              "        vertical-align: top;\n",
              "    }\n",
              "\n",
              "    .dataframe thead th {\n",
              "        text-align: right;\n",
              "    }\n",
              "</style>\n",
              "<table border=\"1\" class=\"dataframe\">\n",
              "  <thead>\n",
              "    <tr style=\"text-align: right;\">\n",
              "      <th></th>\n",
              "      <th>id</th>\n",
              "      <th>timestamp</th>\n",
              "      <th>device</th>\n",
              "      <th>PCell_RSRP_max</th>\n",
              "      <th>PCell_RSRQ_max</th>\n",
              "      <th>PCell_RSSI_max</th>\n",
              "      <th>PCell_SNR_max</th>\n",
              "      <th>PCell_Downlink_Num_RBs</th>\n",
              "      <th>PCell_Downlink_Average_MCS</th>\n",
              "      <th>PCell_Downlink_bandwidth_MHz</th>\n",
              "      <th>...</th>\n",
              "      <th>dewPoint</th>\n",
              "      <th>humidity</th>\n",
              "      <th>pressure</th>\n",
              "      <th>windSpeed</th>\n",
              "      <th>cloudCover</th>\n",
              "      <th>uvIndex</th>\n",
              "      <th>visibility</th>\n",
              "      <th>Traffic Jam Factor</th>\n",
              "      <th>area</th>\n",
              "      <th>target</th>\n",
              "    </tr>\n",
              "  </thead>\n",
              "  <tbody>\n",
              "    <tr>\n",
              "      <th>0</th>\n",
              "      <td>Id_qt2qn56050</td>\n",
              "      <td>1624367008</td>\n",
              "      <td>pc1</td>\n",
              "      <td>-84.498750</td>\n",
              "      <td>-14.586875</td>\n",
              "      <td>-49.855625</td>\n",
              "      <td>16.457</td>\n",
              "      <td>35076.0</td>\n",
              "      <td>23.0</td>\n",
              "      <td>20.0</td>\n",
              "      <td>...</td>\n",
              "      <td>13.86</td>\n",
              "      <td>0.62</td>\n",
              "      <td>1013.6</td>\n",
              "      <td>2.39</td>\n",
              "      <td>0.95</td>\n",
              "      <td>4.0</td>\n",
              "      <td>16.093</td>\n",
              "      <td>0.38979</td>\n",
              "      <td>Residential</td>\n",
              "      <td>51500000.0</td>\n",
              "    </tr>\n",
              "    <tr>\n",
              "      <th>1</th>\n",
              "      <td>Id_f1zf07cwb6</td>\n",
              "      <td>1624372465</td>\n",
              "      <td>pc3</td>\n",
              "      <td>-86.818125</td>\n",
              "      <td>-11.982500</td>\n",
              "      <td>-54.838125</td>\n",
              "      <td>16.674</td>\n",
              "      <td>42704.0</td>\n",
              "      <td>24.0</td>\n",
              "      <td>20.0</td>\n",
              "      <td>...</td>\n",
              "      <td>14.52</td>\n",
              "      <td>0.59</td>\n",
              "      <td>1013.5</td>\n",
              "      <td>2.29</td>\n",
              "      <td>0.82</td>\n",
              "      <td>3.0</td>\n",
              "      <td>16.093</td>\n",
              "      <td>3.78322</td>\n",
              "      <td>Residential</td>\n",
              "      <td>50300000.0</td>\n",
              "    </tr>\n",
              "    <tr>\n",
              "      <th>2</th>\n",
              "      <td>Id_uoxdz7di5b</td>\n",
              "      <td>1624371871</td>\n",
              "      <td>pc3</td>\n",
              "      <td>-101.916250</td>\n",
              "      <td>-13.257500</td>\n",
              "      <td>-71.241250</td>\n",
              "      <td>9.392</td>\n",
              "      <td>36017.0</td>\n",
              "      <td>22.0</td>\n",
              "      <td>20.0</td>\n",
              "      <td>...</td>\n",
              "      <td>14.71</td>\n",
              "      <td>0.61</td>\n",
              "      <td>1013.8</td>\n",
              "      <td>2.13</td>\n",
              "      <td>0.82</td>\n",
              "      <td>3.0</td>\n",
              "      <td>16.093</td>\n",
              "      <td>2.08425</td>\n",
              "      <td>Residential</td>\n",
              "      <td>16500000.0</td>\n",
              "    </tr>\n",
              "  </tbody>\n",
              "</table>\n",
              "<p>3 rows × 41 columns</p>\n",
              "</div>\n",
              "      <button class=\"colab-df-convert\" onclick=\"convertToInteractive('df-920cfc9f-e90e-40e0-b817-306d6f2443d8')\"\n",
              "              title=\"Convert this dataframe to an interactive table.\"\n",
              "              style=\"display:none;\">\n",
              "        \n",
              "  <svg xmlns=\"http://www.w3.org/2000/svg\" height=\"24px\"viewBox=\"0 0 24 24\"\n",
              "       width=\"24px\">\n",
              "    <path d=\"M0 0h24v24H0V0z\" fill=\"none\"/>\n",
              "    <path d=\"M18.56 5.44l.94 2.06.94-2.06 2.06-.94-2.06-.94-.94-2.06-.94 2.06-2.06.94zm-11 1L8.5 8.5l.94-2.06 2.06-.94-2.06-.94L8.5 2.5l-.94 2.06-2.06.94zm10 10l.94 2.06.94-2.06 2.06-.94-2.06-.94-.94-2.06-.94 2.06-2.06.94z\"/><path d=\"M17.41 7.96l-1.37-1.37c-.4-.4-.92-.59-1.43-.59-.52 0-1.04.2-1.43.59L10.3 9.45l-7.72 7.72c-.78.78-.78 2.05 0 2.83L4 21.41c.39.39.9.59 1.41.59.51 0 1.02-.2 1.41-.59l7.78-7.78 2.81-2.81c.8-.78.8-2.07 0-2.86zM5.41 20L4 18.59l7.72-7.72 1.47 1.35L5.41 20z\"/>\n",
              "  </svg>\n",
              "      </button>\n",
              "      \n",
              "  <style>\n",
              "    .colab-df-container {\n",
              "      display:flex;\n",
              "      flex-wrap:wrap;\n",
              "      gap: 12px;\n",
              "    }\n",
              "\n",
              "    .colab-df-convert {\n",
              "      background-color: #E8F0FE;\n",
              "      border: none;\n",
              "      border-radius: 50%;\n",
              "      cursor: pointer;\n",
              "      display: none;\n",
              "      fill: #1967D2;\n",
              "      height: 32px;\n",
              "      padding: 0 0 0 0;\n",
              "      width: 32px;\n",
              "    }\n",
              "\n",
              "    .colab-df-convert:hover {\n",
              "      background-color: #E2EBFA;\n",
              "      box-shadow: 0px 1px 2px rgba(60, 64, 67, 0.3), 0px 1px 3px 1px rgba(60, 64, 67, 0.15);\n",
              "      fill: #174EA6;\n",
              "    }\n",
              "\n",
              "    [theme=dark] .colab-df-convert {\n",
              "      background-color: #3B4455;\n",
              "      fill: #D2E3FC;\n",
              "    }\n",
              "\n",
              "    [theme=dark] .colab-df-convert:hover {\n",
              "      background-color: #434B5C;\n",
              "      box-shadow: 0px 1px 3px 1px rgba(0, 0, 0, 0.15);\n",
              "      filter: drop-shadow(0px 1px 2px rgba(0, 0, 0, 0.3));\n",
              "      fill: #FFFFFF;\n",
              "    }\n",
              "  </style>\n",
              "\n",
              "      <script>\n",
              "        const buttonEl =\n",
              "          document.querySelector('#df-920cfc9f-e90e-40e0-b817-306d6f2443d8 button.colab-df-convert');\n",
              "        buttonEl.style.display =\n",
              "          google.colab.kernel.accessAllowed ? 'block' : 'none';\n",
              "\n",
              "        async function convertToInteractive(key) {\n",
              "          const element = document.querySelector('#df-920cfc9f-e90e-40e0-b817-306d6f2443d8');\n",
              "          const dataTable =\n",
              "            await google.colab.kernel.invokeFunction('convertToInteractive',\n",
              "                                                     [key], {});\n",
              "          if (!dataTable) return;\n",
              "\n",
              "          const docLinkHtml = 'Like what you see? Visit the ' +\n",
              "            '<a target=\"_blank\" href=https://colab.research.google.com/notebooks/data_table.ipynb>data table notebook</a>'\n",
              "            + ' to learn more about interactive tables.';\n",
              "          element.innerHTML = '';\n",
              "          dataTable['output_type'] = 'display_data';\n",
              "          await google.colab.output.renderOutput(dataTable, element);\n",
              "          const docLink = document.createElement('div');\n",
              "          docLink.innerHTML = docLinkHtml;\n",
              "          element.appendChild(docLink);\n",
              "        }\n",
              "      </script>\n",
              "    </div>\n",
              "  </div>\n",
              "  "
            ]
          },
          "metadata": {},
          "execution_count": 13
        }
      ]
    },
    {
      "cell_type": "code",
      "source": [
        "Variables"
      ],
      "metadata": {
        "colab": {
          "base_uri": "https://localhost:8080/",
          "height": 1000
        },
        "id": "U5VMZS-p8UeF",
        "outputId": "684534b1-b59b-4504-b829-ee4eb835be58"
      },
      "execution_count": 14,
      "outputs": [
        {
          "output_type": "execute_result",
          "data": {
            "text/plain": [
              "                    VARIABLENAME  \\\n",
              "0                             id   \n",
              "1                      timestamp   \n",
              "2                         device   \n",
              "3                 PCell_RSRP_max   \n",
              "4                 PCell_RSRQ_max   \n",
              "5                 PCell_RSSI_max   \n",
              "6                  PCell_SNR_max   \n",
              "7         PCell_Downlink_Num_RBs   \n",
              "8         PCell_Downlink_TB_Size   \n",
              "9     PCell_Downlink_Average_MCS   \n",
              "10  PCell_Downlink_bandwidth_MHz   \n",
              "11           PCell_Cell_Identity   \n",
              "12                PCell_freq_MHz   \n",
              "13                SCell_RSRP_max   \n",
              "14                SCell_RSRQ_max   \n",
              "15                SCell_RSSI_max   \n",
              "16                 SCell_SNR_max   \n",
              "17        SCell_Downlink_Num_RBs   \n",
              "18        SCell_Downlink_TB_Size   \n",
              "19    SCell_Downlink_Average_MCS   \n",
              "20  SCell_Downlink_bandwidth_MHz   \n",
              "21           SCell_Cell_Identity   \n",
              "22                SCell_freq_MHz   \n",
              "23                      operator   \n",
              "24                      Latitude   \n",
              "25                     Longitude   \n",
              "26                      Altitude   \n",
              "27                     speed_kmh   \n",
              "28                           COG   \n",
              "29               precipIntensity   \n",
              "30             precipProbability   \n",
              "31                   temperature   \n",
              "32           apparentTemperature   \n",
              "33                      dewPoint   \n",
              "34                      humidity   \n",
              "35                      pressure   \n",
              "36                     windSpeed   \n",
              "37                    cloudCover   \n",
              "38                       uvIndex   \n",
              "39                    visibility   \n",
              "40            Traffic Jam Factor   \n",
              "41                          area   \n",
              "42                        target   \n",
              "\n",
              "                                                                                 VARIABLE DESCRIPTION  \n",
              "0                                                                              Unique ID for each row  \n",
              "1                                                                           Unix timestamp in seconds  \n",
              "2                                                                   ID of the vehicle carrying the UE  \n",
              "3                                Maximum reference signal received power in dBm from the primary cell  \n",
              "4                               Maximum reference signal received quality in dB from the primary cell  \n",
              "5                             Maximum received signal strength indicator in dBm from the primary cell  \n",
              "6                                           Maximum signal to noise ratio in dB from the primary cell  \n",
              "7                     Aggregated number of received resource blocks in downlink from the primary cell  \n",
              "8                                   Aggregated transport block size in downlink from the primary cell  \n",
              "9     Average modulation and coding scheme weighted by received resource blocks from the primary cell  \n",
              "10                                                    Downlink bandwidth in MHz from the primary cell  \n",
              "11                                                                       Cell ID of the primary cell   \n",
              "12                                                       Carrier frequency in MHz of the primary cell  \n",
              "13                             Maximum reference signal received power in dBm from the secondary cell  \n",
              "14                            Maximum reference signal received quality in dB from the secondary cell  \n",
              "15                          Maximum received signal strength indicator in dBm from the secondary cell  \n",
              "16                                        Maximum signal to noise ratio in dB from the secondary cell  \n",
              "17                  Aggregated number of received resource blocks in downlink from the secondary cell  \n",
              "18                                Aggregated transport block size in downlink from the secondary cell  \n",
              "19  Average modulation and coding scheme weighted by received resource blocks from the secondary cell  \n",
              "20                                                  Downlink bandwidth in MHz from the secondary cell  \n",
              "21                                                                     Cell ID of the secondary cell   \n",
              "22                                                     Carrier frequency in MHz of the secondary cell  \n",
              "23                                                                                 ID of the operator  \n",
              "24                                                                        GPS latitude of the vehicle  \n",
              "25                                                                       GPS longitude of the vehicle  \n",
              "26                                                                        GPS altitude of the vehicle  \n",
              "27                                                             GPS-based speed of the vehicle in km/h  \n",
              "28                                                        GPS-based course over ground of the vehicle  \n",
              "29                                                                            Precipitation intensity  \n",
              "30                                                                          Precipitation probability  \n",
              "31                                                                                        Temperature  \n",
              "32                                                                               Apparent temperature  \n",
              "33                                                                                          Dew point  \n",
              "34                                                                                           Humidity  \n",
              "35                                                                               Atmospheric pressure  \n",
              "36                                                                                         Wind speed  \n",
              "37                                                                                        Cloud cover  \n",
              "38                                                                                  Ultraviolet index  \n",
              "39                                                               Visibility due to weather conditions  \n",
              "40                      Factor of traffic congestion (a higher factor corresponds to heavier traffic)  \n",
              "41                                Categorical urban area among Avenue/Park/Residential/Highway/Tunnel  \n",
              "42                                            Prediction target: downlink datarate in bits per second  "
            ],
            "text/html": [
              "\n",
              "  <div id=\"df-c3dfe35f-e3aa-41e0-a108-0c9992117360\">\n",
              "    <div class=\"colab-df-container\">\n",
              "      <div>\n",
              "<style scoped>\n",
              "    .dataframe tbody tr th:only-of-type {\n",
              "        vertical-align: middle;\n",
              "    }\n",
              "\n",
              "    .dataframe tbody tr th {\n",
              "        vertical-align: top;\n",
              "    }\n",
              "\n",
              "    .dataframe thead th {\n",
              "        text-align: right;\n",
              "    }\n",
              "</style>\n",
              "<table border=\"1\" class=\"dataframe\">\n",
              "  <thead>\n",
              "    <tr style=\"text-align: right;\">\n",
              "      <th></th>\n",
              "      <th>VARIABLENAME</th>\n",
              "      <th>VARIABLE DESCRIPTION</th>\n",
              "    </tr>\n",
              "  </thead>\n",
              "  <tbody>\n",
              "    <tr>\n",
              "      <th>0</th>\n",
              "      <td>id</td>\n",
              "      <td>Unique ID for each row</td>\n",
              "    </tr>\n",
              "    <tr>\n",
              "      <th>1</th>\n",
              "      <td>timestamp</td>\n",
              "      <td>Unix timestamp in seconds</td>\n",
              "    </tr>\n",
              "    <tr>\n",
              "      <th>2</th>\n",
              "      <td>device</td>\n",
              "      <td>ID of the vehicle carrying the UE</td>\n",
              "    </tr>\n",
              "    <tr>\n",
              "      <th>3</th>\n",
              "      <td>PCell_RSRP_max</td>\n",
              "      <td>Maximum reference signal received power in dBm from the primary cell</td>\n",
              "    </tr>\n",
              "    <tr>\n",
              "      <th>4</th>\n",
              "      <td>PCell_RSRQ_max</td>\n",
              "      <td>Maximum reference signal received quality in dB from the primary cell</td>\n",
              "    </tr>\n",
              "    <tr>\n",
              "      <th>5</th>\n",
              "      <td>PCell_RSSI_max</td>\n",
              "      <td>Maximum received signal strength indicator in dBm from the primary cell</td>\n",
              "    </tr>\n",
              "    <tr>\n",
              "      <th>6</th>\n",
              "      <td>PCell_SNR_max</td>\n",
              "      <td>Maximum signal to noise ratio in dB from the primary cell</td>\n",
              "    </tr>\n",
              "    <tr>\n",
              "      <th>7</th>\n",
              "      <td>PCell_Downlink_Num_RBs</td>\n",
              "      <td>Aggregated number of received resource blocks in downlink from the primary cell</td>\n",
              "    </tr>\n",
              "    <tr>\n",
              "      <th>8</th>\n",
              "      <td>PCell_Downlink_TB_Size</td>\n",
              "      <td>Aggregated transport block size in downlink from the primary cell</td>\n",
              "    </tr>\n",
              "    <tr>\n",
              "      <th>9</th>\n",
              "      <td>PCell_Downlink_Average_MCS</td>\n",
              "      <td>Average modulation and coding scheme weighted by received resource blocks from the primary cell</td>\n",
              "    </tr>\n",
              "    <tr>\n",
              "      <th>10</th>\n",
              "      <td>PCell_Downlink_bandwidth_MHz</td>\n",
              "      <td>Downlink bandwidth in MHz from the primary cell</td>\n",
              "    </tr>\n",
              "    <tr>\n",
              "      <th>11</th>\n",
              "      <td>PCell_Cell_Identity</td>\n",
              "      <td>Cell ID of the primary cell</td>\n",
              "    </tr>\n",
              "    <tr>\n",
              "      <th>12</th>\n",
              "      <td>PCell_freq_MHz</td>\n",
              "      <td>Carrier frequency in MHz of the primary cell</td>\n",
              "    </tr>\n",
              "    <tr>\n",
              "      <th>13</th>\n",
              "      <td>SCell_RSRP_max</td>\n",
              "      <td>Maximum reference signal received power in dBm from the secondary cell</td>\n",
              "    </tr>\n",
              "    <tr>\n",
              "      <th>14</th>\n",
              "      <td>SCell_RSRQ_max</td>\n",
              "      <td>Maximum reference signal received quality in dB from the secondary cell</td>\n",
              "    </tr>\n",
              "    <tr>\n",
              "      <th>15</th>\n",
              "      <td>SCell_RSSI_max</td>\n",
              "      <td>Maximum received signal strength indicator in dBm from the secondary cell</td>\n",
              "    </tr>\n",
              "    <tr>\n",
              "      <th>16</th>\n",
              "      <td>SCell_SNR_max</td>\n",
              "      <td>Maximum signal to noise ratio in dB from the secondary cell</td>\n",
              "    </tr>\n",
              "    <tr>\n",
              "      <th>17</th>\n",
              "      <td>SCell_Downlink_Num_RBs</td>\n",
              "      <td>Aggregated number of received resource blocks in downlink from the secondary cell</td>\n",
              "    </tr>\n",
              "    <tr>\n",
              "      <th>18</th>\n",
              "      <td>SCell_Downlink_TB_Size</td>\n",
              "      <td>Aggregated transport block size in downlink from the secondary cell</td>\n",
              "    </tr>\n",
              "    <tr>\n",
              "      <th>19</th>\n",
              "      <td>SCell_Downlink_Average_MCS</td>\n",
              "      <td>Average modulation and coding scheme weighted by received resource blocks from the secondary cell</td>\n",
              "    </tr>\n",
              "    <tr>\n",
              "      <th>20</th>\n",
              "      <td>SCell_Downlink_bandwidth_MHz</td>\n",
              "      <td>Downlink bandwidth in MHz from the secondary cell</td>\n",
              "    </tr>\n",
              "    <tr>\n",
              "      <th>21</th>\n",
              "      <td>SCell_Cell_Identity</td>\n",
              "      <td>Cell ID of the secondary cell</td>\n",
              "    </tr>\n",
              "    <tr>\n",
              "      <th>22</th>\n",
              "      <td>SCell_freq_MHz</td>\n",
              "      <td>Carrier frequency in MHz of the secondary cell</td>\n",
              "    </tr>\n",
              "    <tr>\n",
              "      <th>23</th>\n",
              "      <td>operator</td>\n",
              "      <td>ID of the operator</td>\n",
              "    </tr>\n",
              "    <tr>\n",
              "      <th>24</th>\n",
              "      <td>Latitude</td>\n",
              "      <td>GPS latitude of the vehicle</td>\n",
              "    </tr>\n",
              "    <tr>\n",
              "      <th>25</th>\n",
              "      <td>Longitude</td>\n",
              "      <td>GPS longitude of the vehicle</td>\n",
              "    </tr>\n",
              "    <tr>\n",
              "      <th>26</th>\n",
              "      <td>Altitude</td>\n",
              "      <td>GPS altitude of the vehicle</td>\n",
              "    </tr>\n",
              "    <tr>\n",
              "      <th>27</th>\n",
              "      <td>speed_kmh</td>\n",
              "      <td>GPS-based speed of the vehicle in km/h</td>\n",
              "    </tr>\n",
              "    <tr>\n",
              "      <th>28</th>\n",
              "      <td>COG</td>\n",
              "      <td>GPS-based course over ground of the vehicle</td>\n",
              "    </tr>\n",
              "    <tr>\n",
              "      <th>29</th>\n",
              "      <td>precipIntensity</td>\n",
              "      <td>Precipitation intensity</td>\n",
              "    </tr>\n",
              "    <tr>\n",
              "      <th>30</th>\n",
              "      <td>precipProbability</td>\n",
              "      <td>Precipitation probability</td>\n",
              "    </tr>\n",
              "    <tr>\n",
              "      <th>31</th>\n",
              "      <td>temperature</td>\n",
              "      <td>Temperature</td>\n",
              "    </tr>\n",
              "    <tr>\n",
              "      <th>32</th>\n",
              "      <td>apparentTemperature</td>\n",
              "      <td>Apparent temperature</td>\n",
              "    </tr>\n",
              "    <tr>\n",
              "      <th>33</th>\n",
              "      <td>dewPoint</td>\n",
              "      <td>Dew point</td>\n",
              "    </tr>\n",
              "    <tr>\n",
              "      <th>34</th>\n",
              "      <td>humidity</td>\n",
              "      <td>Humidity</td>\n",
              "    </tr>\n",
              "    <tr>\n",
              "      <th>35</th>\n",
              "      <td>pressure</td>\n",
              "      <td>Atmospheric pressure</td>\n",
              "    </tr>\n",
              "    <tr>\n",
              "      <th>36</th>\n",
              "      <td>windSpeed</td>\n",
              "      <td>Wind speed</td>\n",
              "    </tr>\n",
              "    <tr>\n",
              "      <th>37</th>\n",
              "      <td>cloudCover</td>\n",
              "      <td>Cloud cover</td>\n",
              "    </tr>\n",
              "    <tr>\n",
              "      <th>38</th>\n",
              "      <td>uvIndex</td>\n",
              "      <td>Ultraviolet index</td>\n",
              "    </tr>\n",
              "    <tr>\n",
              "      <th>39</th>\n",
              "      <td>visibility</td>\n",
              "      <td>Visibility due to weather conditions</td>\n",
              "    </tr>\n",
              "    <tr>\n",
              "      <th>40</th>\n",
              "      <td>Traffic Jam Factor</td>\n",
              "      <td>Factor of traffic congestion (a higher factor corresponds to heavier traffic)</td>\n",
              "    </tr>\n",
              "    <tr>\n",
              "      <th>41</th>\n",
              "      <td>area</td>\n",
              "      <td>Categorical urban area among Avenue/Park/Residential/Highway/Tunnel</td>\n",
              "    </tr>\n",
              "    <tr>\n",
              "      <th>42</th>\n",
              "      <td>target</td>\n",
              "      <td>Prediction target: downlink datarate in bits per second</td>\n",
              "    </tr>\n",
              "  </tbody>\n",
              "</table>\n",
              "</div>\n",
              "      <button class=\"colab-df-convert\" onclick=\"convertToInteractive('df-c3dfe35f-e3aa-41e0-a108-0c9992117360')\"\n",
              "              title=\"Convert this dataframe to an interactive table.\"\n",
              "              style=\"display:none;\">\n",
              "        \n",
              "  <svg xmlns=\"http://www.w3.org/2000/svg\" height=\"24px\"viewBox=\"0 0 24 24\"\n",
              "       width=\"24px\">\n",
              "    <path d=\"M0 0h24v24H0V0z\" fill=\"none\"/>\n",
              "    <path d=\"M18.56 5.44l.94 2.06.94-2.06 2.06-.94-2.06-.94-.94-2.06-.94 2.06-2.06.94zm-11 1L8.5 8.5l.94-2.06 2.06-.94-2.06-.94L8.5 2.5l-.94 2.06-2.06.94zm10 10l.94 2.06.94-2.06 2.06-.94-2.06-.94-.94-2.06-.94 2.06-2.06.94z\"/><path d=\"M17.41 7.96l-1.37-1.37c-.4-.4-.92-.59-1.43-.59-.52 0-1.04.2-1.43.59L10.3 9.45l-7.72 7.72c-.78.78-.78 2.05 0 2.83L4 21.41c.39.39.9.59 1.41.59.51 0 1.02-.2 1.41-.59l7.78-7.78 2.81-2.81c.8-.78.8-2.07 0-2.86zM5.41 20L4 18.59l7.72-7.72 1.47 1.35L5.41 20z\"/>\n",
              "  </svg>\n",
              "      </button>\n",
              "      \n",
              "  <style>\n",
              "    .colab-df-container {\n",
              "      display:flex;\n",
              "      flex-wrap:wrap;\n",
              "      gap: 12px;\n",
              "    }\n",
              "\n",
              "    .colab-df-convert {\n",
              "      background-color: #E8F0FE;\n",
              "      border: none;\n",
              "      border-radius: 50%;\n",
              "      cursor: pointer;\n",
              "      display: none;\n",
              "      fill: #1967D2;\n",
              "      height: 32px;\n",
              "      padding: 0 0 0 0;\n",
              "      width: 32px;\n",
              "    }\n",
              "\n",
              "    .colab-df-convert:hover {\n",
              "      background-color: #E2EBFA;\n",
              "      box-shadow: 0px 1px 2px rgba(60, 64, 67, 0.3), 0px 1px 3px 1px rgba(60, 64, 67, 0.15);\n",
              "      fill: #174EA6;\n",
              "    }\n",
              "\n",
              "    [theme=dark] .colab-df-convert {\n",
              "      background-color: #3B4455;\n",
              "      fill: #D2E3FC;\n",
              "    }\n",
              "\n",
              "    [theme=dark] .colab-df-convert:hover {\n",
              "      background-color: #434B5C;\n",
              "      box-shadow: 0px 1px 3px 1px rgba(0, 0, 0, 0.15);\n",
              "      filter: drop-shadow(0px 1px 2px rgba(0, 0, 0, 0.3));\n",
              "      fill: #FFFFFF;\n",
              "    }\n",
              "  </style>\n",
              "\n",
              "      <script>\n",
              "        const buttonEl =\n",
              "          document.querySelector('#df-c3dfe35f-e3aa-41e0-a108-0c9992117360 button.colab-df-convert');\n",
              "        buttonEl.style.display =\n",
              "          google.colab.kernel.accessAllowed ? 'block' : 'none';\n",
              "\n",
              "        async function convertToInteractive(key) {\n",
              "          const element = document.querySelector('#df-c3dfe35f-e3aa-41e0-a108-0c9992117360');\n",
              "          const dataTable =\n",
              "            await google.colab.kernel.invokeFunction('convertToInteractive',\n",
              "                                                     [key], {});\n",
              "          if (!dataTable) return;\n",
              "\n",
              "          const docLinkHtml = 'Like what you see? Visit the ' +\n",
              "            '<a target=\"_blank\" href=https://colab.research.google.com/notebooks/data_table.ipynb>data table notebook</a>'\n",
              "            + ' to learn more about interactive tables.';\n",
              "          element.innerHTML = '';\n",
              "          dataTable['output_type'] = 'display_data';\n",
              "          await google.colab.output.renderOutput(dataTable, element);\n",
              "          const docLink = document.createElement('div');\n",
              "          docLink.innerHTML = docLinkHtml;\n",
              "          element.appendChild(docLink);\n",
              "        }\n",
              "      </script>\n",
              "    </div>\n",
              "  </div>\n",
              "  "
            ]
          },
          "metadata": {},
          "execution_count": 14
        }
      ]
    },
    {
      "cell_type": "code",
      "source": [
        "Vard = Variables.set_index('VARIABLENAME').T"
      ],
      "metadata": {
        "id": "fjK3iHoF-Ibp"
      },
      "execution_count": 15,
      "outputs": []
    },
    {
      "cell_type": "code",
      "source": [
        "Vard[data.filter(like=\"PCell\").columns]"
      ],
      "metadata": {
        "colab": {
          "base_uri": "https://localhost:8080/",
          "height": 232
        },
        "id": "PsU-AkUP68n2",
        "outputId": "2de04859-b583-402a-d08c-84be82d679e4"
      },
      "execution_count": 16,
      "outputs": [
        {
          "output_type": "execute_result",
          "data": {
            "text/plain": [
              "VARIABLENAME                                                                PCell_RSRP_max  \\\n",
              "VARIABLE DESCRIPTION  Maximum reference signal received power in dBm from the primary cell   \n",
              "\n",
              "VARIABLENAME                                                                 PCell_RSRQ_max  \\\n",
              "VARIABLE DESCRIPTION  Maximum reference signal received quality in dB from the primary cell   \n",
              "\n",
              "VARIABLENAME                                                                   PCell_RSSI_max  \\\n",
              "VARIABLE DESCRIPTION  Maximum received signal strength indicator in dBm from the primary cell   \n",
              "\n",
              "VARIABLENAME                                                      PCell_SNR_max  \\\n",
              "VARIABLE DESCRIPTION  Maximum signal to noise ratio in dB from the primary cell   \n",
              "\n",
              "VARIABLENAME                                                                   PCell_Downlink_Num_RBs  \\\n",
              "VARIABLE DESCRIPTION  Aggregated number of received resource blocks in downlink from the primary cell   \n",
              "\n",
              "VARIABLENAME                                                                               PCell_Downlink_Average_MCS  \\\n",
              "VARIABLE DESCRIPTION  Average modulation and coding scheme weighted by received resource blocks from the primary cell   \n",
              "\n",
              "VARIABLENAME                             PCell_Downlink_bandwidth_MHz  \\\n",
              "VARIABLE DESCRIPTION  Downlink bandwidth in MHz from the primary cell   \n",
              "\n",
              "VARIABLENAME                   PCell_Cell_Identity  \\\n",
              "VARIABLE DESCRIPTION  Cell ID of the primary cell    \n",
              "\n",
              "VARIABLENAME                                        PCell_freq_MHz  \n",
              "VARIABLE DESCRIPTION  Carrier frequency in MHz of the primary cell  "
            ],
            "text/html": [
              "\n",
              "  <div id=\"df-e3b2d288-4ab7-4255-8a87-94da53a166fc\">\n",
              "    <div class=\"colab-df-container\">\n",
              "      <div>\n",
              "<style scoped>\n",
              "    .dataframe tbody tr th:only-of-type {\n",
              "        vertical-align: middle;\n",
              "    }\n",
              "\n",
              "    .dataframe tbody tr th {\n",
              "        vertical-align: top;\n",
              "    }\n",
              "\n",
              "    .dataframe thead th {\n",
              "        text-align: right;\n",
              "    }\n",
              "</style>\n",
              "<table border=\"1\" class=\"dataframe\">\n",
              "  <thead>\n",
              "    <tr style=\"text-align: right;\">\n",
              "      <th>VARIABLENAME</th>\n",
              "      <th>PCell_RSRP_max</th>\n",
              "      <th>PCell_RSRQ_max</th>\n",
              "      <th>PCell_RSSI_max</th>\n",
              "      <th>PCell_SNR_max</th>\n",
              "      <th>PCell_Downlink_Num_RBs</th>\n",
              "      <th>PCell_Downlink_Average_MCS</th>\n",
              "      <th>PCell_Downlink_bandwidth_MHz</th>\n",
              "      <th>PCell_Cell_Identity</th>\n",
              "      <th>PCell_freq_MHz</th>\n",
              "    </tr>\n",
              "  </thead>\n",
              "  <tbody>\n",
              "    <tr>\n",
              "      <th>VARIABLE DESCRIPTION</th>\n",
              "      <td>Maximum reference signal received power in dBm from the primary cell</td>\n",
              "      <td>Maximum reference signal received quality in dB from the primary cell</td>\n",
              "      <td>Maximum received signal strength indicator in dBm from the primary cell</td>\n",
              "      <td>Maximum signal to noise ratio in dB from the primary cell</td>\n",
              "      <td>Aggregated number of received resource blocks in downlink from the primary cell</td>\n",
              "      <td>Average modulation and coding scheme weighted by received resource blocks from the primary cell</td>\n",
              "      <td>Downlink bandwidth in MHz from the primary cell</td>\n",
              "      <td>Cell ID of the primary cell</td>\n",
              "      <td>Carrier frequency in MHz of the primary cell</td>\n",
              "    </tr>\n",
              "  </tbody>\n",
              "</table>\n",
              "</div>\n",
              "      <button class=\"colab-df-convert\" onclick=\"convertToInteractive('df-e3b2d288-4ab7-4255-8a87-94da53a166fc')\"\n",
              "              title=\"Convert this dataframe to an interactive table.\"\n",
              "              style=\"display:none;\">\n",
              "        \n",
              "  <svg xmlns=\"http://www.w3.org/2000/svg\" height=\"24px\"viewBox=\"0 0 24 24\"\n",
              "       width=\"24px\">\n",
              "    <path d=\"M0 0h24v24H0V0z\" fill=\"none\"/>\n",
              "    <path d=\"M18.56 5.44l.94 2.06.94-2.06 2.06-.94-2.06-.94-.94-2.06-.94 2.06-2.06.94zm-11 1L8.5 8.5l.94-2.06 2.06-.94-2.06-.94L8.5 2.5l-.94 2.06-2.06.94zm10 10l.94 2.06.94-2.06 2.06-.94-2.06-.94-.94-2.06-.94 2.06-2.06.94z\"/><path d=\"M17.41 7.96l-1.37-1.37c-.4-.4-.92-.59-1.43-.59-.52 0-1.04.2-1.43.59L10.3 9.45l-7.72 7.72c-.78.78-.78 2.05 0 2.83L4 21.41c.39.39.9.59 1.41.59.51 0 1.02-.2 1.41-.59l7.78-7.78 2.81-2.81c.8-.78.8-2.07 0-2.86zM5.41 20L4 18.59l7.72-7.72 1.47 1.35L5.41 20z\"/>\n",
              "  </svg>\n",
              "      </button>\n",
              "      \n",
              "  <style>\n",
              "    .colab-df-container {\n",
              "      display:flex;\n",
              "      flex-wrap:wrap;\n",
              "      gap: 12px;\n",
              "    }\n",
              "\n",
              "    .colab-df-convert {\n",
              "      background-color: #E8F0FE;\n",
              "      border: none;\n",
              "      border-radius: 50%;\n",
              "      cursor: pointer;\n",
              "      display: none;\n",
              "      fill: #1967D2;\n",
              "      height: 32px;\n",
              "      padding: 0 0 0 0;\n",
              "      width: 32px;\n",
              "    }\n",
              "\n",
              "    .colab-df-convert:hover {\n",
              "      background-color: #E2EBFA;\n",
              "      box-shadow: 0px 1px 2px rgba(60, 64, 67, 0.3), 0px 1px 3px 1px rgba(60, 64, 67, 0.15);\n",
              "      fill: #174EA6;\n",
              "    }\n",
              "\n",
              "    [theme=dark] .colab-df-convert {\n",
              "      background-color: #3B4455;\n",
              "      fill: #D2E3FC;\n",
              "    }\n",
              "\n",
              "    [theme=dark] .colab-df-convert:hover {\n",
              "      background-color: #434B5C;\n",
              "      box-shadow: 0px 1px 3px 1px rgba(0, 0, 0, 0.15);\n",
              "      filter: drop-shadow(0px 1px 2px rgba(0, 0, 0, 0.3));\n",
              "      fill: #FFFFFF;\n",
              "    }\n",
              "  </style>\n",
              "\n",
              "      <script>\n",
              "        const buttonEl =\n",
              "          document.querySelector('#df-e3b2d288-4ab7-4255-8a87-94da53a166fc button.colab-df-convert');\n",
              "        buttonEl.style.display =\n",
              "          google.colab.kernel.accessAllowed ? 'block' : 'none';\n",
              "\n",
              "        async function convertToInteractive(key) {\n",
              "          const element = document.querySelector('#df-e3b2d288-4ab7-4255-8a87-94da53a166fc');\n",
              "          const dataTable =\n",
              "            await google.colab.kernel.invokeFunction('convertToInteractive',\n",
              "                                                     [key], {});\n",
              "          if (!dataTable) return;\n",
              "\n",
              "          const docLinkHtml = 'Like what you see? Visit the ' +\n",
              "            '<a target=\"_blank\" href=https://colab.research.google.com/notebooks/data_table.ipynb>data table notebook</a>'\n",
              "            + ' to learn more about interactive tables.';\n",
              "          element.innerHTML = '';\n",
              "          dataTable['output_type'] = 'display_data';\n",
              "          await google.colab.output.renderOutput(dataTable, element);\n",
              "          const docLink = document.createElement('div');\n",
              "          docLink.innerHTML = docLinkHtml;\n",
              "          element.appendChild(docLink);\n",
              "        }\n",
              "      </script>\n",
              "    </div>\n",
              "  </div>\n",
              "  "
            ]
          },
          "metadata": {},
          "execution_count": 16
        }
      ]
    },
    {
      "cell_type": "code",
      "source": [
        "data[['PCell_Downlink_Average_MCS','PCell_SNR_max','PCell_Downlink_Num_RBs']].describe()"
      ],
      "metadata": {
        "id": "Iot3QN2AVmsN"
      },
      "execution_count": null,
      "outputs": []
    },
    {
      "cell_type": "code",
      "source": [
        "g = sns.PairGrid(data[['PCell_Downlink_Average_MCS','PCell_SNR_max','PCell_Downlink_Num_RBs']])\n",
        "g.map_diag(sns.histplot)\n",
        "g.map_offdiag(sns.scatterplot)"
      ],
      "metadata": {
        "id": "iHR85-bY1Ee5"
      },
      "execution_count": null,
      "outputs": []
    },
    {
      "cell_type": "code",
      "source": [
        "scatterplot(x=Train['PCell_Downlink_Average_MCS'],y=Train['PCell_SNR_max'])"
      ],
      "metadata": {
        "id": "SmxLQvP2z0bv"
      },
      "execution_count": null,
      "outputs": []
    },
    {
      "cell_type": "code",
      "source": [
        "g = sns.PairGrid(data[['PCell_Downlink_Average_MCS','PCell_RSRP_max','PCell_RSRQ_max','PCell_RSSI_max','PCell_SNR_max']])\n",
        "g.map_diag(sns.histplot)\n",
        "g.map_offdiag(sns.scatterplot)"
      ],
      "metadata": {
        "id": "d8q2xkUi3j1K"
      },
      "execution_count": null,
      "outputs": []
    },
    {
      "cell_type": "code",
      "source": [
        "data[['PCell_RSRP_max','PCell_RSRQ_max','PCell_RSSI_max']].describe()"
      ],
      "metadata": {
        "id": "Arndm51853mI"
      },
      "execution_count": null,
      "outputs": []
    },
    {
      "cell_type": "code",
      "source": [
        "data[['PCell_Downlink_Average_MCS','PCell_RSRP_max','PCell_RSRQ_max','PCell_RSSI_max','PCell_SNR_max']].head(3)"
      ],
      "metadata": {
        "id": "or9JJ7Z5-gs0"
      },
      "execution_count": null,
      "outputs": []
    },
    {
      "cell_type": "code",
      "source": [
        "data[['SCell_SNR_max','SCell_Downlink_Num_RBs','SCell_Cell_Identity','SCell_RSRQ_max']].describe()"
      ],
      "metadata": {
        "id": "p0WdpdFkeNHU"
      },
      "execution_count": null,
      "outputs": []
    },
    {
      "cell_type": "code",
      "source": [
        "g = sns.PairGrid(data[['SCell_SNR_max','SCell_Downlink_Num_RBs','SCell_Cell_Identity','SCell_RSRQ_max']])\n",
        "g.map_diag(sns.histplot)\n",
        "g.map_offdiag(sns.scatterplot)"
      ],
      "metadata": {
        "id": "EhKecWbTxvcH"
      },
      "execution_count": null,
      "outputs": []
    },
    {
      "cell_type": "code",
      "source": [],
      "metadata": {
        "id": "uR411L-nxPOy"
      },
      "execution_count": null,
      "outputs": []
    },
    {
      "cell_type": "markdown",
      "source": [
        "###Feature Engineering"
      ],
      "metadata": {
        "id": "h5BYgVGGAV7-"
      }
    },
    {
      "cell_type": "code",
      "source": [
        "data['N_PCell_RSRQ'] = data['PCell_RSRP_max'] / data['PCell_RSSI_max']\n",
        "data['N_PCell_RSRP_Noise'] = data['PCell_RSRP_max'] / data['PCell_SNR_max']\n",
        "data['N_PCell_RSRQ_Noise'] = data['PCell_RSRQ_max'] / data['PCell_SNR_max']\n",
        "data['N_PCell_RSSI_Noise'] = data['PCell_RSSI_max'] / data['PCell_SNR_max']\n"
      ],
      "metadata": {
        "id": "OhI1-HoBAYVG"
      },
      "execution_count": 325,
      "outputs": []
    },
    {
      "cell_type": "code",
      "source": [
        "data['N_SCell_RSRQ'] = data['SCell_RSRP_max'] / data['SCell_RSSI_max']\n",
        "data['N_SCell_RSRP_Noise'] = data['SCell_RSRP_max'] / data['SCell_SNR_max']\n",
        "data['N_SCell_RSRQ_Noise'] = data['SCell_RSRQ_max'] / data['SCell_SNR_max']\n",
        "data['N_SCell_RSSI_Noise'] = data['SCell_RSSI_max'] / data['SCell_SNR_max']"
      ],
      "metadata": {
        "id": "gTIQ09dBVOX5"
      },
      "execution_count": 326,
      "outputs": []
    },
    {
      "cell_type": "code",
      "source": [
        "def RSRmapper(rsr_col: pd.Series, h_bar: float, l_bar: float, colval: float) -> int:\n",
        "  \"\"\"\n",
        "  This Function maps the values of a Referenced_Signal_Received(RSR) column\n",
        "  to five different integer values between the intervals of h_bar(Highest possible value) and\n",
        "  l_bar(Lowest possible Value) and returns the label for the colval\n",
        "\n",
        "  Args:\n",
        "   rsr_col : Referenced signal received column\n",
        "   h_bar : Highest possible column value\n",
        "   l_bar : Lowest possible column value\n",
        "   colval : Column Value to turn into a interval label\n",
        "\n",
        "  Returns:\n",
        "   The Interval Label of the Column Value\n",
        "\n",
        "  \"\"\"\n",
        "\n",
        "  common_diff = abs(h_bar - l_bar)/5\n",
        "  if (h_bar-common_diff) <= colval <= h_bar :\n",
        "    return 6\n",
        "  elif (h_bar - 2*common_diff) <= colval <= (h_bar - common_diff):\n",
        "    return 5\n",
        "  elif (h_bar - 3*common_diff) <= colval <= (h_bar - 2*common_diff):\n",
        "    return 4\n",
        "  elif (h_bar - 4*common_diff) <= colval <= (h_bar - 3*common_diff):\n",
        "    return 3\n",
        "  elif (h_bar - 5*common_diff) <= colval <= (h_bar - 4*common_diff):\n",
        "    return 2\n",
        "  elif (h_bar - 6*common_diff) <= colval <= (h_bar - 5*common_diff):\n",
        "    return 1\n",
        "  else:\n",
        "    return 0\n"
      ],
      "metadata": {
        "id": "OBkEeCF_AZI8"
      },
      "execution_count": 327,
      "outputs": []
    },
    {
      "cell_type": "code",
      "source": [
        "# data['N_PCell_RSRP_max_bin'] = data['PCell_RSRP_max'].apply(lambda x: RSRmapper(rsr_col = data['PCell_RSRP_max'], h_bar=-40, l_bar=-140, colval=x))\n",
        "# data['N_PCell_RSRQ_max_bin'] = data['PCell_RSRQ_max'].apply(lambda x: RSRmapper(rsr_col=data['PCell_RSRQ_max'], h_bar=-3, l_bar=-19.5, colval=x))\n",
        "# data['N_PCell_RSSI_max_bin'] = data['PCell_RSSI_max'].apply(lambda x: RSRmapper(rsr_col=data['PCell_RSSI_max'], h_bar=0, l_bar=-120, colval=x))\n",
        "\n",
        "# data['N_SCell_RSRP_max_bin'] = data['SCell_RSRP_max'].apply(lambda x: RSRmapper(rsr_col = data['SCell_RSRP_max'], h_bar=-40, l_bar=-140, colval=x))\n",
        "# data['N_SCell_RSRQ_max_bin'] = data['SCell_RSRQ_max'].apply(lambda x: RSRmapper(rsr_col=data['SCell_RSRQ_max'], h_bar=-3, l_bar=-19.5, colval=x))\n",
        "# data['N_SCell_RSSI_max_bin'] = data['SCell_RSSI_max'].apply(lambda x: RSRmapper(rsr_col=data['SCell_RSSI_max'], h_bar=0, l_bar=-120, colval=x))"
      ],
      "metadata": {
        "id": "kjj1qDaIJC6E"
      },
      "execution_count": 328,
      "outputs": []
    },
    {
      "cell_type": "code",
      "source": [
        "data['N_PCell_RSRP_max_bin'] = pd.qcut(data['PCell_RSRP_max'],q=10,labels=False)\n",
        "data['N_PCell_RSRQ_max_bin'] = pd.qcut(data['PCell_RSRQ_max'],q=10,labels=False)\n",
        "data['N_PCell_RSSI_max_bin'] = pd.qcut(data['PCell_RSSI_max'],q=10,labels=False)"
      ],
      "metadata": {
        "id": "d4qFcf2Qhk-1"
      },
      "execution_count": 329,
      "outputs": []
    },
    {
      "cell_type": "code",
      "source": [
        "data['N_SCell_RSRP_max_bin'] = pd.qcut(data['SCell_RSRP_max'],q=10,labels=False)\n",
        "data['N_SCell_RSRQ_max_bin'] = pd.qcut(data['SCell_RSRQ_max'],q=10,labels=False)\n",
        "data['N_SCell_RSSI_max_bin'] = pd.qcut(data['SCell_RSSI_max'],q=10,labels=False)"
      ],
      "metadata": {
        "id": "P_hpLqLTh5XY"
      },
      "execution_count": 330,
      "outputs": []
    },
    {
      "cell_type": "code",
      "source": [
        "from sklearn.cluster import KMeans\n",
        "def kmeans_clustering(df: pd.DataFrame, n_clusters: int) -> List:\n",
        "  df = df.copy()\n",
        "  df.fillna(0, inplace=True)\n",
        "  kmeans = KMeans(n_clusters=n_clusters)\n",
        "  kmeans.fit(df)\n",
        "  labels = kmeans.labels_\n",
        "  centroids = kmeans.cluster_centers_\n",
        "  return labels, centroids\n",
        "\n",
        "# plt.scatter(df[\"PCell_RSRP_max\"], df[\"PCell_RSRQ_max\"], c=labels)\n",
        "# plt.scatter(centroids[:, 0], centroids[:, 1], marker=\"x\", c=\"red\")\n",
        "# plt.show()"
      ],
      "metadata": {
        "id": "A0iYsYsDPEc9"
      },
      "execution_count": 331,
      "outputs": []
    },
    {
      "cell_type": "code",
      "source": [
        "PCell_RS_max_labels, PCell_RS_max_centroids = kmeans_clustering(data[['PCell_RSRP_max','PCell_RSRQ_max','PCell_RSSI_max']], n_clusters=3)"
      ],
      "metadata": {
        "colab": {
          "base_uri": "https://localhost:8080/"
        },
        "id": "iDXXNgwHSAAf",
        "outputId": "f5c1492a-9598-4b9b-a265-be1ae6d60d01"
      },
      "execution_count": 268,
      "outputs": [
        {
          "output_type": "stream",
          "name": "stderr",
          "text": [
            "/usr/local/lib/python3.10/dist-packages/sklearn/cluster/_kmeans.py:870: FutureWarning: The default value of `n_init` will change from 10 to 'auto' in 1.4. Set the value of `n_init` explicitly to suppress the warning\n",
            "  warnings.warn(\n"
          ]
        }
      ]
    },
    {
      "cell_type": "code",
      "source": [
        "SCell_RS_max_labels, SCell_RS_max_centroids = kmeans_clustering(data[['SCell_RSRP_max','SCell_RSRQ_max','SCell_RSSI_max']], n_clusters=3)"
      ],
      "metadata": {
        "colab": {
          "base_uri": "https://localhost:8080/"
        },
        "id": "UuGHh6BsStZ5",
        "outputId": "52cd8a47-aeb8-44eb-a951-6ce70219db8b"
      },
      "execution_count": 269,
      "outputs": [
        {
          "output_type": "stream",
          "name": "stderr",
          "text": [
            "/usr/local/lib/python3.10/dist-packages/sklearn/cluster/_kmeans.py:870: FutureWarning: The default value of `n_init` will change from 10 to 'auto' in 1.4. Set the value of `n_init` explicitly to suppress the warning\n",
            "  warnings.warn(\n"
          ]
        }
      ]
    },
    {
      "cell_type": "code",
      "source": [
        "data['N_PCell_RS_max_labels'] = PCell_RS_max_labels\n",
        "data['N_SCell_RS_max_labels'] = SCell_RS_max_labels"
      ],
      "metadata": {
        "id": "Pth3U6cyYa2P"
      },
      "execution_count": 270,
      "outputs": []
    },
    {
      "cell_type": "code",
      "source": [
        "data['N_Total_PCell_RS_max'] = data[['PCell_RSRP_max','PCell_RSRQ_max','PCell_RSSI_max']].sum(axis=1)\n",
        "data['N_Total_SCell_RS_max'] = data[['SCell_RSRP_max','SCell_RSRQ_max','SCell_RSSI_max']].sum(axis=1)\n",
        "\n",
        "data['N_Total_PCell_RS_Noise'] = data['N_Total_PCell_RS_max'] / data['PCell_SNR_max']\n",
        "data['N_Total_SCell_RS_Noise'] = data['N_Total_SCell_RS_max'] / data['SCell_SNR_max']"
      ],
      "metadata": {
        "id": "oS35WyuaZE-y"
      },
      "execution_count": 282,
      "outputs": []
    },
    {
      "cell_type": "code",
      "source": [
        "data['N_Avg_PCell_RS_max'] = data[['PCell_RSRP_max','PCell_RSRQ_max','PCell_RSSI_max']].mean(axis=1)\n",
        "data['N_Avg_SCell_RS_max'] = data[['SCell_RSRP_max','SCell_RSRQ_max','SCell_RSSI_max']].mean(axis=1)"
      ],
      "metadata": {
        "id": "i_0vTlP0Z6Wh"
      },
      "execution_count": 294,
      "outputs": []
    },
    {
      "cell_type": "code",
      "source": [
        "data['N_Avg_PCell_Scell_RSRP_max'] = data[['PCell_RSRP_max','SCell_RSRP_max']].mean(axis=1)\n",
        "data['N_Avg_PCell_Scell_RSRQ_max'] = data[['PCell_RSRQ_max','SCell_RSRQ_max']].mean(axis=1)\n",
        "data['N_Avg_PCell_Scell_RSSI_max'] = data[['PCell_RSSI_max','SCell_RSSI_max']].mean(axis=1)\n",
        "\n",
        "data['N_Avg_PCell_Scell_RSRP_Noise'] = data[['N_PCell_RSRP_Noise','N_SCell_RSRP_Noise']].mean(axis=1)\n",
        "data['N_Avg_PCell_Scell_RSRQ_Noise'] = data[['N_PCell_RSRQ_Noise','N_SCell_RSRQ_Noise']].mean(axis=1)\n",
        "data['N_Avg_PCell_Scell_RSSI_Noise'] = data[['N_PCell_RSSI_Noise','N_SCell_RSSI_Noise']].mean(axis=1)"
      ],
      "metadata": {
        "id": "hSphZbQSaQ0P"
      },
      "execution_count": 332,
      "outputs": []
    },
    {
      "cell_type": "code",
      "source": [
        "total_N_PCell_Noise = data[['N_PCell_RSRP_Noise','N_PCell_RSRQ_Noise','N_PCell_RSSI_Noise']].mean(axis=1)\n",
        "total_N_SCell_Noise = data[['N_SCell_RSRP_Noise','N_SCell_RSRQ_Noise','N_SCell_RSSI_Noise']].mean(axis=1)\n",
        "\n",
        "data['N_PCell_RSRP_Noise(pro)'] = data['N_PCell_RSRP_Noise']/total_N_PCell_Noise\n",
        "data['N_SCell_RSRP_Noise(pro)'] = data['N_SCell_RSRP_Noise']/total_N_SCell_Noise\n",
        "data['N_PCell_RSRQ_Noise(pro)'] = data['N_PCell_RSRQ_Noise']/total_N_PCell_Noise\n",
        "data['N_SCell_RSRQ_Noise(pro)'] = data['N_SCell_RSRQ_Noise']/total_N_SCell_Noise\n",
        "data['N_PCell_RSSI_Noise(pro)'] = data['N_PCell_RSSI_Noise']/total_N_PCell_Noise\n",
        "data['N_SCell_RSSI_Noise(pro)'] = data['N_SCell_RSSI_Noise']/total_N_SCell_Noise"
      ],
      "metadata": {
        "id": "pFbnCXIub0yM"
      },
      "execution_count": 319,
      "outputs": []
    },
    {
      "cell_type": "code",
      "source": [
        "train = data[data['target'] != 'Test'].copy()\n",
        "test = data[data['target'] == 'Test'].copy()\n",
        "test = test.drop(['target'],axis=1)\n",
        "train['target'] = np.float64(train['target'])"
      ],
      "metadata": {
        "id": "qzg3KpfJNwhb"
      },
      "execution_count": 333,
      "outputs": []
    },
    {
      "cell_type": "code",
      "source": [
        "TT = train.drop(['id','device'],axis=1)\n",
        "tests = test.drop(['id','device'], axis=1)\n",
        "\n",
        "categorical_features = ['area']\n",
        "oe = OrdinalEncoder()\n",
        "tests['area'] = oe.fit_transform(tests[['area']])\n",
        "TT['area'] = oe.fit_transform(TT[['area']])\n",
        "\n",
        "\n",
        "TT.fillna(0, inplace=True)\n",
        "tests.fillna(0, inplace=True)\n",
        "\n",
        "TT = TT[[col for col in TT.columns if col != 'target'] + [\"target\"]]"
      ],
      "metadata": {
        "id": "E_kSfbIeQyg5"
      },
      "execution_count": 334,
      "outputs": []
    },
    {
      "cell_type": "code",
      "source": [
        "TTrain = TT[:30846]\n",
        "val = TT[30846:34274]"
      ],
      "metadata": {
        "id": "ooEEXR15phKG"
      },
      "execution_count": 335,
      "outputs": []
    },
    {
      "cell_type": "code",
      "source": [
        "TTrain = TTrain.drop(['PCell_RSRP_max','SCell_RSRP_max','PCell_RSRQ_max','SCell_RSRQ_max','PCell_RSSI_max','SCell_RSSI_max',\n",
        "           'N_PCell_RSRP_Noise','N_SCell_RSRP_Noise','N_PCell_RSRQ_Noise','N_SCell_RSRQ_Noise','N_PCell_RSSI_Noise',\n",
        "          'N_SCell_RSSI_Noise'],axis=1)"
      ],
      "metadata": {
        "id": "bnPakaIswJtG"
      },
      "execution_count": 339,
      "outputs": []
    },
    {
      "cell_type": "code",
      "source": [
        "Baseline = Baseline_score(train=TTrain,model=cbc,split_method='train_test_split',VERBOSE=False,random_seed=0)\n",
        "lgb_score = Baseline.run()\n",
        "print(f\"CV_RMSE_Score:{lgb_score}\")"
      ],
      "metadata": {
        "colab": {
          "base_uri": "https://localhost:8080/"
        },
        "id": "7n6AX2-PRCXb",
        "outputId": "f05b1d7c-bd7a-4016-aa46-40a0f471b602"
      },
      "execution_count": 340,
      "outputs": [
        {
          "output_type": "stream",
          "name": "stdout",
          "text": [
            "CV_RMSE_Score:9452358.97823278\n"
          ]
        }
      ]
    },
    {
      "cell_type": "code",
      "source": [
        "valrain = val.drop(['target'],axis=1)"
      ],
      "metadata": {
        "id": "GWOzj_1FqUHM"
      },
      "execution_count": 257,
      "outputs": []
    },
    {
      "cell_type": "code",
      "source": [
        "predictions = Baseline_predict(train=TTrain,model=cbc,split_method='train_test_split',VERBOSE=False,random_seed=0)\n",
        "predict = predictions.predict(valrain)\n",
        "# preds = predictions.submission(Test)"
      ],
      "metadata": {
        "colab": {
          "base_uri": "https://localhost:8080/"
        },
        "id": "iDN2Hq_Wh9Lb",
        "outputId": "8630fd0d-7a82-4a7d-9c79-2ca783795f0b"
      },
      "execution_count": 258,
      "outputs": [
        {
          "output_type": "stream",
          "name": "stdout",
          "text": [
            "split: TRAIN_TEST_SPLIT\n"
          ]
        }
      ]
    },
    {
      "cell_type": "code",
      "source": [
        "mean_squared_error(val['target'],predict,squared=False)"
      ],
      "metadata": {
        "colab": {
          "base_uri": "https://localhost:8080/"
        },
        "id": "rmxrGPorqvLM",
        "outputId": "e3466355-787e-455e-bdc8-52054248ade2"
      },
      "execution_count": 259,
      "outputs": [
        {
          "output_type": "execute_result",
          "data": {
            "text/plain": [
              "9311414.775376376"
            ]
          },
          "metadata": {},
          "execution_count": 259
        }
      ]
    },
    {
      "cell_type": "code",
      "source": [
        "preds.to_csv('eight_submission.csv',index=False)"
      ],
      "metadata": {
        "id": "AXgVMt4aiKR1"
      },
      "execution_count": 190,
      "outputs": []
    },
    {
      "cell_type": "code",
      "source": [
        "Baseline.plot_features(n_features=25)"
      ],
      "metadata": {
        "id": "aa8l62A-Gavc",
        "colab": {
          "base_uri": "https://localhost:8080/",
          "height": 416
        },
        "outputId": "94fc0254-3466-4418-9022-97c248944a6f"
      },
      "execution_count": 187,
      "outputs": [
        {
          "output_type": "display_data",
          "data": {
            "text/plain": [
              "<Figure size 2500x1000 with 1 Axes>"
            ],
            "image/png": "[encoded data removed]"
          },
          "metadata": {}
        }
      ]
    },
    {
      "cell_type": "code",
      "source": [],
      "metadata": {
        "id": "OZvpuibLgvy6"
      },
      "execution_count": null,
      "outputs": []
    }
  ]
}