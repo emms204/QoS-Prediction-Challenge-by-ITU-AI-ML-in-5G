{
  "cells": [
    {
      "cell_type": "code",
      "execution_count": 1,
      "id": "83659bd7-873f-4efc-b71e-8319cba9a7d3",
      "metadata": {
        "id": "83659bd7-873f-4efc-b71e-8319cba9a7d3"
      },
      "outputs": [],
      "source": [
        "import pandas as pd\n",
        "from sklearn.compose import make_column_transformer\n",
        "from sklearn.ensemble import RandomForestRegressor\n",
        "from sklearn.metrics import mean_squared_error\n",
        "from sklearn.preprocessing import OrdinalEncoder\n",
        "from sklearn.model_selection import train_test_split"
      ]
    },
    {
      "cell_type": "markdown",
      "id": "ddd1971d-f8a6-4470-ae70-73df82376eb5",
      "metadata": {
        "id": "ddd1971d-f8a6-4470-ae70-73df82376eb5"
      },
      "source": [
        "# Data loading"
      ]
    },
    {
      "cell_type": "code",
      "execution_count": 2,
      "id": "9ec676c9-e6a7-4a70-be2c-76345f1fc6b6",
      "metadata": {
        "id": "9ec676c9-e6a7-4a70-be2c-76345f1fc6b6"
      },
      "outputs": [],
      "source": [
        "train_df = pd.read_csv(\"Train.csv\")\n",
        "test_df = pd.read_csv(\"Test.csv\")\n",
        "sample_submission = pd.read_csv('SampleSubmission.csv')"
      ]
    },
    {
      "cell_type": "markdown",
      "id": "36c5c4fb-c820-4eea-b9bb-5a93ed88ce69",
      "metadata": {
        "id": "36c5c4fb-c820-4eea-b9bb-5a93ed88ce69"
      },
      "source": [
        "# Data preparation"
      ]
    },
    {
      "cell_type": "code",
      "execution_count": 3,
      "id": "f71f8390-07e6-44b4-ad33-ba882d37e679",
      "metadata": {
        "id": "f71f8390-07e6-44b4-ad33-ba882d37e679"
      },
      "outputs": [],
      "source": [
        "# Split inputs and targets\n",
        "train_inputs = train_df.drop(columns=['target'])\n",
        "train_targets = train_df['target']\n",
        "test_inputs = test_df.copy()\n",
        "\n",
        "# Select features\n",
        "dropped_columns = ['device', 'id']\n",
        "train_inputs.drop(columns=dropped_columns, inplace=True)\n",
        "test_inputs.drop(columns=dropped_columns, inplace=True)\n",
        "\n",
        "# Transform categorical features\n",
        "categorical_features = ['area']\n",
        "oe = OrdinalEncoder()\n",
        "train_inputs[categorical_features] = oe.fit_transform(train_inputs[categorical_features])\n",
        "test_inputs[categorical_features] = oe.transform(test_inputs[categorical_features])\n",
        "\n",
        "# Missing value imputation\n",
        "train_inputs.fillna(0, inplace=True)\n",
        "test_inputs.fillna(0, inplace=True)"
      ]
    },
    {
      "cell_type": "markdown",
      "id": "8e794da1-c893-4242-83cf-470e26b0ceba",
      "metadata": {
        "id": "8e794da1-c893-4242-83cf-470e26b0ceba"
      },
      "source": [
        "# Prediction algorithm"
      ]
    },
    {
      "cell_type": "code",
      "execution_count": 4,
      "id": "661d3183-90e0-48f3-9d79-b53c4f2dad2c",
      "metadata": {
        "id": "661d3183-90e0-48f3-9d79-b53c4f2dad2c"
      },
      "outputs": [],
      "source": [
        "# Split training and validation tests\n",
        "\n",
        "X_train, X_test, y_train, y_test = train_test_split(train_inputs, train_targets, test_size = 0.2, random_state = 0)\n",
        "\n",
        "# Create algorithm\n",
        "rf = RandomForestRegressor()\n",
        "\n",
        "# Train\n",
        "rf.fit(X_train, y_train)\n",
        "\n",
        "# Validation\n",
        "val_predictions = rf.predict(X_test)\n",
        "\n",
        "# Test\n",
        "test_predictions = rf.predict(test_inputs)"
      ]
    },
    {
      "cell_type": "markdown",
      "id": "148a0d92-4cbf-4785-8fe3-eea3e20e1733",
      "metadata": {
        "id": "148a0d92-4cbf-4785-8fe3-eea3e20e1733"
      },
      "source": [
        "# Compute error metric"
      ]
    },
    {
      "cell_type": "code",
      "execution_count": 5,
      "id": "6a39cf44-0afd-4510-a325-429ea79e3ac9",
      "metadata": {
        "id": "6a39cf44-0afd-4510-a325-429ea79e3ac9",
        "outputId": "34d20d60-efef-4e7c-a930-0a13b365ad27",
        "colab": {
          "base_uri": "https://localhost:8080/"
        }
      },
      "outputs": [
        {
          "output_type": "stream",
          "name": "stdout",
          "text": [
            "Root Mean Squared Error = 9.7 Mbit/s\n"
          ]
        }
      ],
      "source": [
        "rmse = mean_squared_error(y_test, val_predictions, squared=False)\n",
        "print(f\"Root Mean Squared Error = {rmse / 1e6:.3} Mbit/s\")"
      ]
    },
    {
      "cell_type": "markdown",
      "id": "ce841334-87a2-4322-bb96-01962e889d01",
      "metadata": {
        "id": "ce841334-87a2-4322-bb96-01962e889d01"
      },
      "source": [
        "# Save results"
      ]
    },
    {
      "cell_type": "code",
      "execution_count": 6,
      "id": "ff142144-a6cd-4fec-9c78-19deaef02795",
      "metadata": {
        "id": "ff142144-a6cd-4fec-9c78-19deaef02795",
        "colab": {
          "base_uri": "https://localhost:8080/",
          "height": 206
        },
        "outputId": "bff95ac2-7106-4c90-f7df-c97f7687a502"
      },
      "outputs": [
        {
          "output_type": "execute_result",
          "data": {
            "text/plain": [
              "              id      target\n",
              "0  Id_ln0e0hfrgx  22468000.0\n",
              "1  Id_svf7nz9fxv  64310000.0\n",
              "2  Id_ww2mh07gwj  78036000.0\n",
              "3  Id_v88r4y03ww  19520200.0\n",
              "4  Id_2u4y4kzglh   3026800.0"
            ],
            "text/html": [
              "\n",
              "  <div id=\"df-2a3b19a6-042a-439a-a667-226eaa2fe303\">\n",
              "    <div class=\"colab-df-container\">\n",
              "      <div>\n",
              "<style scoped>\n",
              "    .dataframe tbody tr th:only-of-type {\n",
              "        vertical-align: middle;\n",
              "    }\n",
              "\n",
              "    .dataframe tbody tr th {\n",
              "        vertical-align: top;\n",
              "    }\n",
              "\n",
              "    .dataframe thead th {\n",
              "        text-align: right;\n",
              "    }\n",
              "</style>\n",
              "<table border=\"1\" class=\"dataframe\">\n",
              "  <thead>\n",
              "    <tr style=\"text-align: right;\">\n",
              "      <th></th>\n",
              "      <th>id</th>\n",
              "      <th>target</th>\n",
              "    </tr>\n",
              "  </thead>\n",
              "  <tbody>\n",
              "    <tr>\n",
              "      <th>0</th>\n",
              "      <td>Id_ln0e0hfrgx</td>\n",
              "      <td>22468000.0</td>\n",
              "    </tr>\n",
              "    <tr>\n",
              "      <th>1</th>\n",
              "      <td>Id_svf7nz9fxv</td>\n",
              "      <td>64310000.0</td>\n",
              "    </tr>\n",
              "    <tr>\n",
              "      <th>2</th>\n",
              "      <td>Id_ww2mh07gwj</td>\n",
              "      <td>78036000.0</td>\n",
              "    </tr>\n",
              "    <tr>\n",
              "      <th>3</th>\n",
              "      <td>Id_v88r4y03ww</td>\n",
              "      <td>19520200.0</td>\n",
              "    </tr>\n",
              "    <tr>\n",
              "      <th>4</th>\n",
              "      <td>Id_2u4y4kzglh</td>\n",
              "      <td>3026800.0</td>\n",
              "    </tr>\n",
              "  </tbody>\n",
              "</table>\n",
              "</div>\n",
              "      <button class=\"colab-df-convert\" onclick=\"convertToInteractive('df-2a3b19a6-042a-439a-a667-226eaa2fe303')\"\n",
              "              title=\"Convert this dataframe to an interactive table.\"\n",
              "              style=\"display:none;\">\n",
              "        \n",
              "  <svg xmlns=\"http://www.w3.org/2000/svg\" height=\"24px\"viewBox=\"0 0 24 24\"\n",
              "       width=\"24px\">\n",
              "    <path d=\"M0 0h24v24H0V0z\" fill=\"none\"/>\n",
              "    <path d=\"M18.56 5.44l.94 2.06.94-2.06 2.06-.94-2.06-.94-.94-2.06-.94 2.06-2.06.94zm-11 1L8.5 8.5l.94-2.06 2.06-.94-2.06-.94L8.5 2.5l-.94 2.06-2.06.94zm10 10l.94 2.06.94-2.06 2.06-.94-2.06-.94-.94-2.06-.94 2.06-2.06.94z\"/><path d=\"M17.41 7.96l-1.37-1.37c-.4-.4-.92-.59-1.43-.59-.52 0-1.04.2-1.43.59L10.3 9.45l-7.72 7.72c-.78.78-.78 2.05 0 2.83L4 21.41c.39.39.9.59 1.41.59.51 0 1.02-.2 1.41-.59l7.78-7.78 2.81-2.81c.8-.78.8-2.07 0-2.86zM5.41 20L4 18.59l7.72-7.72 1.47 1.35L5.41 20z\"/>\n",
              "  </svg>\n",
              "      </button>\n",
              "      \n",
              "  <style>\n",
              "    .colab-df-container {\n",
              "      display:flex;\n",
              "      flex-wrap:wrap;\n",
              "      gap: 12px;\n",
              "    }\n",
              "\n",
              "    .colab-df-convert {\n",
              "      background-color: #E8F0FE;\n",
              "      border: none;\n",
              "      border-radius: 50%;\n",
              "      cursor: pointer;\n",
              "      display: none;\n",
              "      fill: #1967D2;\n",
              "      height: 32px;\n",
              "      padding: 0 0 0 0;\n",
              "      width: 32px;\n",
              "    }\n",
              "\n",
              "    .colab-df-convert:hover {\n",
              "      background-color: #E2EBFA;\n",
              "      box-shadow: 0px 1px 2px rgba(60, 64, 67, 0.3), 0px 1px 3px 1px rgba(60, 64, 67, 0.15);\n",
              "      fill: #174EA6;\n",
              "    }\n",
              "\n",
              "    [theme=dark] .colab-df-convert {\n",
              "      background-color: #3B4455;\n",
              "      fill: #D2E3FC;\n",
              "    }\n",
              "\n",
              "    [theme=dark] .colab-df-convert:hover {\n",
              "      background-color: #434B5C;\n",
              "      box-shadow: 0px 1px 3px 1px rgba(0, 0, 0, 0.15);\n",
              "      filter: drop-shadow(0px 1px 2px rgba(0, 0, 0, 0.3));\n",
              "      fill: #FFFFFF;\n",
              "    }\n",
              "  </style>\n",
              "\n",
              "      <script>\n",
              "        const buttonEl =\n",
              "          document.querySelector('#df-2a3b19a6-042a-439a-a667-226eaa2fe303 button.colab-df-convert');\n",
              "        buttonEl.style.display =\n",
              "          google.colab.kernel.accessAllowed ? 'block' : 'none';\n",
              "\n",
              "        async function convertToInteractive(key) {\n",
              "          const element = document.querySelector('#df-2a3b19a6-042a-439a-a667-226eaa2fe303');\n",
              "          const dataTable =\n",
              "            await google.colab.kernel.invokeFunction('convertToInteractive',\n",
              "                                                     [key], {});\n",
              "          if (!dataTable) return;\n",
              "\n",
              "          const docLinkHtml = 'Like what you see? Visit the ' +\n",
              "            '<a target=\"_blank\" href=https://colab.research.google.com/notebooks/data_table.ipynb>data table notebook</a>'\n",
              "            + ' to learn more about interactive tables.';\n",
              "          element.innerHTML = '';\n",
              "          dataTable['output_type'] = 'display_data';\n",
              "          await google.colab.output.renderOutput(dataTable, element);\n",
              "          const docLink = document.createElement('div');\n",
              "          docLink.innerHTML = docLinkHtml;\n",
              "          element.appendChild(docLink);\n",
              "        }\n",
              "      </script>\n",
              "    </div>\n",
              "  </div>\n",
              "  "
            ]
          },
          "metadata": {},
          "execution_count": 6
        }
      ],
      "source": [
        "# Add index to results\n",
        "predictions_df = pd.DataFrame({'id': test_df.id, 'target': test_predictions})\n",
        "predictions_df.to_csv(\"BenchmarkSubmission.csv\", index = False)\n",
        "predictions_df.head()"
      ]
    }
  ],
  "metadata": {
    "kernelspec": {
      "display_name": "Python 3 (ipykernel)",
      "language": "python",
      "name": "python3"
    },
    "language_info": {
      "codemirror_mode": {
        "name": "ipython",
        "version": 3
      },
      "file_extension": ".py",
      "mimetype": "text/x-python",
      "name": "python",
      "nbconvert_exporter": "python",
      "pygments_lexer": "ipython3",
      "version": "3.10.8"
    },
    "colab": {
      "provenance": []
    }
  },
  "nbformat": 4,
  "nbformat_minor": 5
}