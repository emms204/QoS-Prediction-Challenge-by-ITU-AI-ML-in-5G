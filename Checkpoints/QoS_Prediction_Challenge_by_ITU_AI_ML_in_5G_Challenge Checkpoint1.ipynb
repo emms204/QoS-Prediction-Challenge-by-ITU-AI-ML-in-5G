{
  "nbformat": 4,
  "nbformat_minor": 0,
  "metadata": {
    "colab": {
      "provenance": [],
      "collapsed_sections": [
        "seUcMl_BqUyz"
      ]
    },
    "kernelspec": {
      "name": "python3",
      "display_name": "Python 3"
    },
    "language_info": {
      "name": "python"
    }
  },
  "cells": [
    {
      "cell_type": "code",
      "execution_count": 10,
      "metadata": {
        "id": "e2IXWdcTJPf1"
      },
      "outputs": [],
      "source": [
        "import os\n",
        "import pandas as pd\n",
        "import numpy as np\n",
        "from typing import Union, List, Literal\n",
        "import seaborn as sns\n",
        "import matplotlib.pyplot as plt\n",
        "import matplotlib.cm as cm"
      ]
    },
    {
      "cell_type": "code",
      "source": [
        "from Helper_Util import *"
      ],
      "metadata": {
        "id": "ddt5s0HfNk-y"
      },
      "execution_count": 190,
      "outputs": []
    },
    {
      "cell_type": "code",
      "source": [
        "Filepath = '/content/drive/MyDrive/QoS Prediction Challenge by ITU ML in 5G Challenge'\n",
        "pd.set_option('display.max_colwidth',200)"
      ],
      "metadata": {
        "id": "sjE1IVVvnbYo"
      },
      "execution_count": 2,
      "outputs": []
    },
    {
      "cell_type": "code",
      "source": [
        "def Load_Data(file_path: str) -> List[pd.DataFrame]:\n",
        "  train = pd.read_csv(file_path+'/Train.csv')\n",
        "  test = pd.read_csv(file_path+'/Test.csv')\n",
        "  sub = pd.read_csv(file_path+'/SampleSubmission.csv')\n",
        "  variables = pd.read_csv(file_path+'/VariableDefinitions.csv')\n",
        "\n",
        "  return train, test, sub, variables\n"
      ],
      "metadata": {
        "id": "dvQAuRDKRLuH"
      },
      "execution_count": 3,
      "outputs": []
    },
    {
      "cell_type": "code",
      "source": [
        "Train, Test, Sub, Variables = Load_Data(Filepath)"
      ],
      "metadata": {
        "id": "2FIz8CAonNHC"
      },
      "execution_count": 4,
      "outputs": []
    },
    {
      "cell_type": "markdown",
      "source": [
        "### Data Exploration"
      ],
      "metadata": {
        "id": "seUcMl_BqUyz"
      }
    },
    {
      "cell_type": "code",
      "source": [
        "Train.head(3)"
      ],
      "metadata": {
        "colab": {
          "base_uri": "https://localhost:8080/",
          "height": 272
        },
        "id": "TYbkTAUEnTY1",
        "outputId": "b1770d29-077c-4a5e-9e99-d46dcd7ec82b"
      },
      "execution_count": 28,
      "outputs": [
        {
          "output_type": "execute_result",
          "data": {
            "text/plain": [
              "              id   timestamp device  PCell_RSRP_max  PCell_RSRQ_max  \\\n",
              "0  Id_qt2qn56050  1624367008    pc1      -84.498750      -14.586875   \n",
              "1  Id_f1zf07cwb6  1624372465    pc3      -86.818125      -11.982500   \n",
              "2  Id_uoxdz7di5b  1624371871    pc3     -101.916250      -13.257500   \n",
              "\n",
              "   PCell_RSSI_max  PCell_SNR_max  PCell_Downlink_Num_RBs  \\\n",
              "0      -49.855625         16.457                 35076.0   \n",
              "1      -54.838125         16.674                 42704.0   \n",
              "2      -71.241250          9.392                 36017.0   \n",
              "\n",
              "   PCell_Downlink_Average_MCS  PCell_Downlink_bandwidth_MHz  ...  dewPoint  \\\n",
              "0                        23.0                          20.0  ...     13.86   \n",
              "1                        24.0                          20.0  ...     14.52   \n",
              "2                        22.0                          20.0  ...     14.71   \n",
              "\n",
              "   humidity  pressure  windSpeed  cloudCover  uvIndex  visibility  \\\n",
              "0      0.62    1013.6       2.39        0.95      4.0      16.093   \n",
              "1      0.59    1013.5       2.29        0.82      3.0      16.093   \n",
              "2      0.61    1013.8       2.13        0.82      3.0      16.093   \n",
              "\n",
              "   Traffic Jam Factor         area      target  \n",
              "0             0.38979  Residential  51500000.0  \n",
              "1             3.78322  Residential  50300000.0  \n",
              "2             2.08425  Residential  16500000.0  \n",
              "\n",
              "[3 rows x 41 columns]"
            ],
            "text/html": [
              "\n",
              "  <div id=\"df-4e8bf62b-fdac-4f99-b3a1-f0e50765b7a0\">\n",
              "    <div class=\"colab-df-container\">\n",
              "      <div>\n",
              "<style scoped>\n",
              "    .dataframe tbody tr th:only-of-type {\n",
              "        vertical-align: middle;\n",
              "    }\n",
              "\n",
              "    .dataframe tbody tr th {\n",
              "        vertical-align: top;\n",
              "    }\n",
              "\n",
              "    .dataframe thead th {\n",
              "        text-align: right;\n",
              "    }\n",
              "</style>\n",
              "<table border=\"1\" class=\"dataframe\">\n",
              "  <thead>\n",
              "    <tr style=\"text-align: right;\">\n",
              "      <th></th>\n",
              "      <th>id</th>\n",
              "      <th>timestamp</th>\n",
              "      <th>device</th>\n",
              "      <th>PCell_RSRP_max</th>\n",
              "      <th>PCell_RSRQ_max</th>\n",
              "      <th>PCell_RSSI_max</th>\n",
              "      <th>PCell_SNR_max</th>\n",
              "      <th>PCell_Downlink_Num_RBs</th>\n",
              "      <th>PCell_Downlink_Average_MCS</th>\n",
              "      <th>PCell_Downlink_bandwidth_MHz</th>\n",
              "      <th>...</th>\n",
              "      <th>dewPoint</th>\n",
              "      <th>humidity</th>\n",
              "      <th>pressure</th>\n",
              "      <th>windSpeed</th>\n",
              "      <th>cloudCover</th>\n",
              "      <th>uvIndex</th>\n",
              "      <th>visibility</th>\n",
              "      <th>Traffic Jam Factor</th>\n",
              "      <th>area</th>\n",
              "      <th>target</th>\n",
              "    </tr>\n",
              "  </thead>\n",
              "  <tbody>\n",
              "    <tr>\n",
              "      <th>0</th>\n",
              "      <td>Id_qt2qn56050</td>\n",
              "      <td>1624367008</td>\n",
              "      <td>pc1</td>\n",
              "      <td>-84.498750</td>\n",
              "      <td>-14.586875</td>\n",
              "      <td>-49.855625</td>\n",
              "      <td>16.457</td>\n",
              "      <td>35076.0</td>\n",
              "      <td>23.0</td>\n",
              "      <td>20.0</td>\n",
              "      <td>...</td>\n",
              "      <td>13.86</td>\n",
              "      <td>0.62</td>\n",
              "      <td>1013.6</td>\n",
              "      <td>2.39</td>\n",
              "      <td>0.95</td>\n",
              "      <td>4.0</td>\n",
              "      <td>16.093</td>\n",
              "      <td>0.38979</td>\n",
              "      <td>Residential</td>\n",
              "      <td>51500000.0</td>\n",
              "    </tr>\n",
              "    <tr>\n",
              "      <th>1</th>\n",
              "      <td>Id_f1zf07cwb6</td>\n",
              "      <td>1624372465</td>\n",
              "      <td>pc3</td>\n",
              "      <td>-86.818125</td>\n",
              "      <td>-11.982500</td>\n",
              "      <td>-54.838125</td>\n",
              "      <td>16.674</td>\n",
              "      <td>42704.0</td>\n",
              "      <td>24.0</td>\n",
              "      <td>20.0</td>\n",
              "      <td>...</td>\n",
              "      <td>14.52</td>\n",
              "      <td>0.59</td>\n",
              "      <td>1013.5</td>\n",
              "      <td>2.29</td>\n",
              "      <td>0.82</td>\n",
              "      <td>3.0</td>\n",
              "      <td>16.093</td>\n",
              "      <td>3.78322</td>\n",
              "      <td>Residential</td>\n",
              "      <td>50300000.0</td>\n",
              "    </tr>\n",
              "    <tr>\n",
              "      <th>2</th>\n",
              "      <td>Id_uoxdz7di5b</td>\n",
              "      <td>1624371871</td>\n",
              "      <td>pc3</td>\n",
              "      <td>-101.916250</td>\n",
              "      <td>-13.257500</td>\n",
              "      <td>-71.241250</td>\n",
              "      <td>9.392</td>\n",
              "      <td>36017.0</td>\n",
              "      <td>22.0</td>\n",
              "      <td>20.0</td>\n",
              "      <td>...</td>\n",
              "      <td>14.71</td>\n",
              "      <td>0.61</td>\n",
              "      <td>1013.8</td>\n",
              "      <td>2.13</td>\n",
              "      <td>0.82</td>\n",
              "      <td>3.0</td>\n",
              "      <td>16.093</td>\n",
              "      <td>2.08425</td>\n",
              "      <td>Residential</td>\n",
              "      <td>16500000.0</td>\n",
              "    </tr>\n",
              "  </tbody>\n",
              "</table>\n",
              "<p>3 rows × 41 columns</p>\n",
              "</div>\n",
              "      <button class=\"colab-df-convert\" onclick=\"convertToInteractive('df-4e8bf62b-fdac-4f99-b3a1-f0e50765b7a0')\"\n",
              "              title=\"Convert this dataframe to an interactive table.\"\n",
              "              style=\"display:none;\">\n",
              "        \n",
              "  <svg xmlns=\"http://www.w3.org/2000/svg\" height=\"24px\"viewBox=\"0 0 24 24\"\n",
              "       width=\"24px\">\n",
              "    <path d=\"M0 0h24v24H0V0z\" fill=\"none\"/>\n",
              "    <path d=\"M18.56 5.44l.94 2.06.94-2.06 2.06-.94-2.06-.94-.94-2.06-.94 2.06-2.06.94zm-11 1L8.5 8.5l.94-2.06 2.06-.94-2.06-.94L8.5 2.5l-.94 2.06-2.06.94zm10 10l.94 2.06.94-2.06 2.06-.94-2.06-.94-.94-2.06-.94 2.06-2.06.94z\"/><path d=\"M17.41 7.96l-1.37-1.37c-.4-.4-.92-.59-1.43-.59-.52 0-1.04.2-1.43.59L10.3 9.45l-7.72 7.72c-.78.78-.78 2.05 0 2.83L4 21.41c.39.39.9.59 1.41.59.51 0 1.02-.2 1.41-.59l7.78-7.78 2.81-2.81c.8-.78.8-2.07 0-2.86zM5.41 20L4 18.59l7.72-7.72 1.47 1.35L5.41 20z\"/>\n",
              "  </svg>\n",
              "      </button>\n",
              "      \n",
              "  <style>\n",
              "    .colab-df-container {\n",
              "      display:flex;\n",
              "      flex-wrap:wrap;\n",
              "      gap: 12px;\n",
              "    }\n",
              "\n",
              "    .colab-df-convert {\n",
              "      background-color: #E8F0FE;\n",
              "      border: none;\n",
              "      border-radius: 50%;\n",
              "      cursor: pointer;\n",
              "      display: none;\n",
              "      fill: #1967D2;\n",
              "      height: 32px;\n",
              "      padding: 0 0 0 0;\n",
              "      width: 32px;\n",
              "    }\n",
              "\n",
              "    .colab-df-convert:hover {\n",
              "      background-color: #E2EBFA;\n",
              "      box-shadow: 0px 1px 2px rgba(60, 64, 67, 0.3), 0px 1px 3px 1px rgba(60, 64, 67, 0.15);\n",
              "      fill: #174EA6;\n",
              "    }\n",
              "\n",
              "    [theme=dark] .colab-df-convert {\n",
              "      background-color: #3B4455;\n",
              "      fill: #D2E3FC;\n",
              "    }\n",
              "\n",
              "    [theme=dark] .colab-df-convert:hover {\n",
              "      background-color: #434B5C;\n",
              "      box-shadow: 0px 1px 3px 1px rgba(0, 0, 0, 0.15);\n",
              "      filter: drop-shadow(0px 1px 2px rgba(0, 0, 0, 0.3));\n",
              "      fill: #FFFFFF;\n",
              "    }\n",
              "  </style>\n",
              "\n",
              "      <script>\n",
              "        const buttonEl =\n",
              "          document.querySelector('#df-4e8bf62b-fdac-4f99-b3a1-f0e50765b7a0 button.colab-df-convert');\n",
              "        buttonEl.style.display =\n",
              "          google.colab.kernel.accessAllowed ? 'block' : 'none';\n",
              "\n",
              "        async function convertToInteractive(key) {\n",
              "          const element = document.querySelector('#df-4e8bf62b-fdac-4f99-b3a1-f0e50765b7a0');\n",
              "          const dataTable =\n",
              "            await google.colab.kernel.invokeFunction('convertToInteractive',\n",
              "                                                     [key], {});\n",
              "          if (!dataTable) return;\n",
              "\n",
              "          const docLinkHtml = 'Like what you see? Visit the ' +\n",
              "            '<a target=\"_blank\" href=https://colab.research.google.com/notebooks/data_table.ipynb>data table notebook</a>'\n",
              "            + ' to learn more about interactive tables.';\n",
              "          element.innerHTML = '';\n",
              "          dataTable['output_type'] = 'display_data';\n",
              "          await google.colab.output.renderOutput(dataTable, element);\n",
              "          const docLink = document.createElement('div');\n",
              "          docLink.innerHTML = docLinkHtml;\n",
              "          element.appendChild(docLink);\n",
              "        }\n",
              "      </script>\n",
              "    </div>\n",
              "  </div>\n",
              "  "
            ]
          },
          "metadata": {},
          "execution_count": 28
        }
      ]
    },
    {
      "cell_type": "code",
      "source": [
        "Test.head(3)"
      ],
      "metadata": {
        "colab": {
          "base_uri": "https://localhost:8080/",
          "height": 272
        },
        "id": "BwNVwCAlpX5F",
        "outputId": "4507a43f-bc90-4aa4-95b3-d28a7935defc"
      },
      "execution_count": 29,
      "outputs": [
        {
          "output_type": "execute_result",
          "data": {
            "text/plain": [
              "              id   timestamp device  PCell_RSRP_max  PCell_RSRQ_max  \\\n",
              "0  Id_ln0e0hfrgx  1624374179    pc2      -97.121875      -12.923750   \n",
              "1  Id_svf7nz9fxv  1624366264    pc4      -65.202500       -9.944375   \n",
              "2  Id_ww2mh07gwj  1624375795    pc2      -79.298125      -17.468750   \n",
              "\n",
              "   PCell_RSSI_max  PCell_SNR_max  PCell_Downlink_Num_RBs  \\\n",
              "0      -87.554375         13.293                 39276.0   \n",
              "1      -35.501875         21.823                 39566.0   \n",
              "2      -74.823750         24.114                 41900.0   \n",
              "\n",
              "   PCell_Downlink_Average_MCS  PCell_Downlink_bandwidth_MHz  ...  \\\n",
              "0                        24.0                            20  ...   \n",
              "1                        25.0                            20  ...   \n",
              "2                        27.0                            20  ...   \n",
              "\n",
              "   apparentTemperature  dewPoint  humidity  pressure  windSpeed  cloudCover  \\\n",
              "0                23.05     14.55      0.59    1013.6       2.27        0.83   \n",
              "1                21.56     13.92      0.62    1013.6       2.42        0.95   \n",
              "2                22.93     14.65      0.60    1013.5       2.26        0.85   \n",
              "\n",
              "   uvIndex  visibility  Traffic Jam Factor    area  \n",
              "0      3.0      16.093             3.07702  Avenue  \n",
              "1      4.0      16.093             0.66000    Park  \n",
              "2      3.0      16.093             2.49330    Park  \n",
              "\n",
              "[3 rows x 40 columns]"
            ],
            "text/html": [
              "\n",
              "  <div id=\"df-46fc50c4-124a-40ed-b990-5fcdf49e91da\">\n",
              "    <div class=\"colab-df-container\">\n",
              "      <div>\n",
              "<style scoped>\n",
              "    .dataframe tbody tr th:only-of-type {\n",
              "        vertical-align: middle;\n",
              "    }\n",
              "\n",
              "    .dataframe tbody tr th {\n",
              "        vertical-align: top;\n",
              "    }\n",
              "\n",
              "    .dataframe thead th {\n",
              "        text-align: right;\n",
              "    }\n",
              "</style>\n",
              "<table border=\"1\" class=\"dataframe\">\n",
              "  <thead>\n",
              "    <tr style=\"text-align: right;\">\n",
              "      <th></th>\n",
              "      <th>id</th>\n",
              "      <th>timestamp</th>\n",
              "      <th>device</th>\n",
              "      <th>PCell_RSRP_max</th>\n",
              "      <th>PCell_RSRQ_max</th>\n",
              "      <th>PCell_RSSI_max</th>\n",
              "      <th>PCell_SNR_max</th>\n",
              "      <th>PCell_Downlink_Num_RBs</th>\n",
              "      <th>PCell_Downlink_Average_MCS</th>\n",
              "      <th>PCell_Downlink_bandwidth_MHz</th>\n",
              "      <th>...</th>\n",
              "      <th>apparentTemperature</th>\n",
              "      <th>dewPoint</th>\n",
              "      <th>humidity</th>\n",
              "      <th>pressure</th>\n",
              "      <th>windSpeed</th>\n",
              "      <th>cloudCover</th>\n",
              "      <th>uvIndex</th>\n",
              "      <th>visibility</th>\n",
              "      <th>Traffic Jam Factor</th>\n",
              "      <th>area</th>\n",
              "    </tr>\n",
              "  </thead>\n",
              "  <tbody>\n",
              "    <tr>\n",
              "      <th>0</th>\n",
              "      <td>Id_ln0e0hfrgx</td>\n",
              "      <td>1624374179</td>\n",
              "      <td>pc2</td>\n",
              "      <td>-97.121875</td>\n",
              "      <td>-12.923750</td>\n",
              "      <td>-87.554375</td>\n",
              "      <td>13.293</td>\n",
              "      <td>39276.0</td>\n",
              "      <td>24.0</td>\n",
              "      <td>20</td>\n",
              "      <td>...</td>\n",
              "      <td>23.05</td>\n",
              "      <td>14.55</td>\n",
              "      <td>0.59</td>\n",
              "      <td>1013.6</td>\n",
              "      <td>2.27</td>\n",
              "      <td>0.83</td>\n",
              "      <td>3.0</td>\n",
              "      <td>16.093</td>\n",
              "      <td>3.07702</td>\n",
              "      <td>Avenue</td>\n",
              "    </tr>\n",
              "    <tr>\n",
              "      <th>1</th>\n",
              "      <td>Id_svf7nz9fxv</td>\n",
              "      <td>1624366264</td>\n",
              "      <td>pc4</td>\n",
              "      <td>-65.202500</td>\n",
              "      <td>-9.944375</td>\n",
              "      <td>-35.501875</td>\n",
              "      <td>21.823</td>\n",
              "      <td>39566.0</td>\n",
              "      <td>25.0</td>\n",
              "      <td>20</td>\n",
              "      <td>...</td>\n",
              "      <td>21.56</td>\n",
              "      <td>13.92</td>\n",
              "      <td>0.62</td>\n",
              "      <td>1013.6</td>\n",
              "      <td>2.42</td>\n",
              "      <td>0.95</td>\n",
              "      <td>4.0</td>\n",
              "      <td>16.093</td>\n",
              "      <td>0.66000</td>\n",
              "      <td>Park</td>\n",
              "    </tr>\n",
              "    <tr>\n",
              "      <th>2</th>\n",
              "      <td>Id_ww2mh07gwj</td>\n",
              "      <td>1624375795</td>\n",
              "      <td>pc2</td>\n",
              "      <td>-79.298125</td>\n",
              "      <td>-17.468750</td>\n",
              "      <td>-74.823750</td>\n",
              "      <td>24.114</td>\n",
              "      <td>41900.0</td>\n",
              "      <td>27.0</td>\n",
              "      <td>20</td>\n",
              "      <td>...</td>\n",
              "      <td>22.93</td>\n",
              "      <td>14.65</td>\n",
              "      <td>0.60</td>\n",
              "      <td>1013.5</td>\n",
              "      <td>2.26</td>\n",
              "      <td>0.85</td>\n",
              "      <td>3.0</td>\n",
              "      <td>16.093</td>\n",
              "      <td>2.49330</td>\n",
              "      <td>Park</td>\n",
              "    </tr>\n",
              "  </tbody>\n",
              "</table>\n",
              "<p>3 rows × 40 columns</p>\n",
              "</div>\n",
              "      <button class=\"colab-df-convert\" onclick=\"convertToInteractive('df-46fc50c4-124a-40ed-b990-5fcdf49e91da')\"\n",
              "              title=\"Convert this dataframe to an interactive table.\"\n",
              "              style=\"display:none;\">\n",
              "        \n",
              "  <svg xmlns=\"http://www.w3.org/2000/svg\" height=\"24px\"viewBox=\"0 0 24 24\"\n",
              "       width=\"24px\">\n",
              "    <path d=\"M0 0h24v24H0V0z\" fill=\"none\"/>\n",
              "    <path d=\"M18.56 5.44l.94 2.06.94-2.06 2.06-.94-2.06-.94-.94-2.06-.94 2.06-2.06.94zm-11 1L8.5 8.5l.94-2.06 2.06-.94-2.06-.94L8.5 2.5l-.94 2.06-2.06.94zm10 10l.94 2.06.94-2.06 2.06-.94-2.06-.94-.94-2.06-.94 2.06-2.06.94z\"/><path d=\"M17.41 7.96l-1.37-1.37c-.4-.4-.92-.59-1.43-.59-.52 0-1.04.2-1.43.59L10.3 9.45l-7.72 7.72c-.78.78-.78 2.05 0 2.83L4 21.41c.39.39.9.59 1.41.59.51 0 1.02-.2 1.41-.59l7.78-7.78 2.81-2.81c.8-.78.8-2.07 0-2.86zM5.41 20L4 18.59l7.72-7.72 1.47 1.35L5.41 20z\"/>\n",
              "  </svg>\n",
              "      </button>\n",
              "      \n",
              "  <style>\n",
              "    .colab-df-container {\n",
              "      display:flex;\n",
              "      flex-wrap:wrap;\n",
              "      gap: 12px;\n",
              "    }\n",
              "\n",
              "    .colab-df-convert {\n",
              "      background-color: #E8F0FE;\n",
              "      border: none;\n",
              "      border-radius: 50%;\n",
              "      cursor: pointer;\n",
              "      display: none;\n",
              "      fill: #1967D2;\n",
              "      height: 32px;\n",
              "      padding: 0 0 0 0;\n",
              "      width: 32px;\n",
              "    }\n",
              "\n",
              "    .colab-df-convert:hover {\n",
              "      background-color: #E2EBFA;\n",
              "      box-shadow: 0px 1px 2px rgba(60, 64, 67, 0.3), 0px 1px 3px 1px rgba(60, 64, 67, 0.15);\n",
              "      fill: #174EA6;\n",
              "    }\n",
              "\n",
              "    [theme=dark] .colab-df-convert {\n",
              "      background-color: #3B4455;\n",
              "      fill: #D2E3FC;\n",
              "    }\n",
              "\n",
              "    [theme=dark] .colab-df-convert:hover {\n",
              "      background-color: #434B5C;\n",
              "      box-shadow: 0px 1px 3px 1px rgba(0, 0, 0, 0.15);\n",
              "      filter: drop-shadow(0px 1px 2px rgba(0, 0, 0, 0.3));\n",
              "      fill: #FFFFFF;\n",
              "    }\n",
              "  </style>\n",
              "\n",
              "      <script>\n",
              "        const buttonEl =\n",
              "          document.querySelector('#df-46fc50c4-124a-40ed-b990-5fcdf49e91da button.colab-df-convert');\n",
              "        buttonEl.style.display =\n",
              "          google.colab.kernel.accessAllowed ? 'block' : 'none';\n",
              "\n",
              "        async function convertToInteractive(key) {\n",
              "          const element = document.querySelector('#df-46fc50c4-124a-40ed-b990-5fcdf49e91da');\n",
              "          const dataTable =\n",
              "            await google.colab.kernel.invokeFunction('convertToInteractive',\n",
              "                                                     [key], {});\n",
              "          if (!dataTable) return;\n",
              "\n",
              "          const docLinkHtml = 'Like what you see? Visit the ' +\n",
              "            '<a target=\"_blank\" href=https://colab.research.google.com/notebooks/data_table.ipynb>data table notebook</a>'\n",
              "            + ' to learn more about interactive tables.';\n",
              "          element.innerHTML = '';\n",
              "          dataTable['output_type'] = 'display_data';\n",
              "          await google.colab.output.renderOutput(dataTable, element);\n",
              "          const docLink = document.createElement('div');\n",
              "          docLink.innerHTML = docLinkHtml;\n",
              "          element.appendChild(docLink);\n",
              "        }\n",
              "      </script>\n",
              "    </div>\n",
              "  </div>\n",
              "  "
            ]
          },
          "metadata": {},
          "execution_count": 29
        }
      ]
    },
    {
      "cell_type": "code",
      "source": [
        "Train.select_dtypes(include=['object']).columns\n",
        "Test.select_dtypes(include=['object']).columns"
      ],
      "metadata": {
        "colab": {
          "base_uri": "https://localhost:8080/"
        },
        "id": "ErMajNLspd4G",
        "outputId": "fe145c4c-c288-4125-ec8d-b7d25d8caac6"
      },
      "execution_count": 30,
      "outputs": [
        {
          "output_type": "execute_result",
          "data": {
            "text/plain": [
              "Index(['id', 'device', 'area'], dtype='object')"
            ]
          },
          "metadata": {},
          "execution_count": 30
        }
      ]
    },
    {
      "cell_type": "code",
      "source": [
        "missing_values = Train.isna().sum()/ Train.shape[0]\n",
        "missing_values = missing_values.sort_values(ascending=False)\n",
        "\n",
        "\n",
        "# Normalize the data to be between 0 and 1\n",
        "norm = plt.Normalize(missing_values.values.min(), missing_values.values.max())\n",
        "# Create a colormap\n",
        "cmap = cm.ScalarMappable(norm=norm, cmap='Blues')\n",
        "# Generate colors for each bar\n",
        "colors = [cmap.to_rgba(val) for val in missing_values.values]\n",
        "\n",
        "# Create bar plot of missing values\n",
        "plt.figure(figsize=(10,5))\n",
        "plt.bar(missing_values.index, missing_values.values, color=colors)\n",
        "plt.xticks(rotation=90)\n",
        "plt.xlabel('Column')\n",
        "plt.ylabel('Number of Missing Values')\n",
        "plt.title('Missing Values per Column')\n",
        "plt.show()\n",
        "\n"
      ],
      "metadata": {
        "colab": {
          "base_uri": "https://localhost:8080/",
          "height": 696
        },
        "id": "kFW7i6M340j0",
        "outputId": "116e4951-ea17-4c22-ff3b-ce5d48f22dfc"
      },
      "execution_count": 73,
      "outputs": [
        {
          "output_type": "display_data",
          "data": {
            "text/plain": [
              "<Figure size 1000x500 with 1 Axes>"
            ],
            "image/png": "[encoded data removed]"
          },
          "metadata": {}
        }
      ]
    },
    {
      "cell_type": "code",
      "source": [
        "missing_values = Test.isna().sum()/ Test.shape[0]\n",
        "missing_values = missing_values.sort_values(ascending=False)\n",
        "import matplotlib.cm as cm\n",
        "\n",
        "# Normalize the data to be between 0 and 1\n",
        "norm = plt.Normalize(missing_values.values.min(), missing_values.values.max())\n",
        "# Create a colormap\n",
        "cmap = cm.ScalarMappable(norm=norm, cmap='Blues')\n",
        "# Generate colors for each bar\n",
        "colors = [cmap.to_rgba(val) for val in missing_values.values]\n",
        "\n",
        "# Create bar plot of missing values\n",
        "plt.figure(figsize=(10,5))\n",
        "plt.bar(missing_values.index, missing_values.values, color=colors)\n",
        "plt.xticks(rotation=90)\n",
        "plt.xlabel('Column')\n",
        "plt.ylabel('Number of Missing Values')\n",
        "plt.title('Missing Values per Column')\n",
        "plt.show()"
      ],
      "metadata": {
        "colab": {
          "base_uri": "https://localhost:8080/",
          "height": 696
        },
        "id": "7dQ5wi4J5ely",
        "outputId": "8210b5ea-ddd4-45fc-c9a2-bc140caec8f6"
      },
      "execution_count": 69,
      "outputs": [
        {
          "output_type": "display_data",
          "data": {
            "text/plain": [
              "<Figure size 1000x500 with 1 Axes>"
            ],
            "image/png": "[encoded data removed]"
          },
          "metadata": {}
        }
      ]
    },
    {
      "cell_type": "markdown",
      "source": [
        "SCELLS_ have the most missing values"
      ],
      "metadata": {
        "id": "1C783Qbr76RJ"
      }
    },
    {
      "cell_type": "markdown",
      "source": [
        "###Baseline Score"
      ],
      "metadata": {
        "id": "FO27LAYe_8Nm"
      }
    },
    {
      "cell_type": "code",
      "source": [
        "from sklearn.metrics import mean_absolute_error, mean_squared_error\n",
        "from sklearn.model_selection import KFold, train_test_split\n",
        "from xgboost import XGBRegressor\n",
        "from lightgbm import LGBMRegressor\n",
        "from sklearn.linear_model import LinearRegression\n",
        "from sklearn.preprocessing import StandardScaler, MinMaxScaler\n",
        "from abc import ABC, abstractmethod\n",
        "import random"
      ],
      "metadata": {
        "id": "PaXOhfef_-Gh"
      },
      "execution_count": 38,
      "outputs": []
    },
    {
      "cell_type": "code",
      "source": [
        "!pip install catboost -q\n",
        "from catboost import CatBoostRegressor"
      ],
      "metadata": {
        "colab": {
          "base_uri": "https://localhost:8080/"
        },
        "id": "dXT99fZIBH8t",
        "outputId": "e17b283f-a400-4643-eead-9c86e17d6172"
      },
      "execution_count": 6,
      "outputs": [
        {
          "output_type": "stream",
          "name": "stdout",
          "text": [
            "\u001b[2K     \u001b[90m━━━━━━━━━━━━━━━━━━━━━━━━━━━━━━━━━━━━━━━━\u001b[0m \u001b[32m98.6/98.6 MB\u001b[0m \u001b[31m7.0 MB/s\u001b[0m eta \u001b[36m0:00:00\u001b[0m\n",
            "\u001b[?25h"
          ]
        }
      ]
    },
    {
      "cell_type": "code",
      "source": [
        "Sscaler = StandardScaler()\n",
        "Mmscaler = MinMaxScaler()\n",
        "lr = LinearRegression()\n",
        "xgb = XGBRegressor()\n",
        "cbc = CatBoostRegressor()\n",
        "lgb = LGBMRegressor()\n",
        "mse = mean_squared_error"
      ],
      "metadata": {
        "id": "adS5r0bfBIj4"
      },
      "execution_count": 86,
      "outputs": []
    },
    {
      "cell_type": "code",
      "source": [
        "class Baseline_score():\n",
        "  def __init__(\n",
        "      self,\n",
        "      train: pd.DataFrame,\n",
        "      model: Union[XGBRegressor, LGBMRegressor, CatBoostRegressor,LinearRegression],\n",
        "      scaler: Union[StandardScaler, MinMaxScaler, None] = None,\n",
        "      split_method: Literal[\"KFold\", \"train_test_split\"] = \"KFold\",\n",
        "      num_split = 5,\n",
        "      random_seed = 42,\n",
        "      VERBOSE: Literal[True,False] = False\n",
        "  ):\n",
        "    if not isinstance(model, (XGBRegressor, LGBMRegressor, CatBoostRegressor,LinearRegression)):\n",
        "      raise TypeError(\"model must be a class of either XGBRegressor, LGBMRegressor, CatBoostRegressor, or LinearRegression\")\n",
        "    if scaler is not None and not isinstance(scaler, (StandardScaler, MinMaxScaler)):\n",
        "        raise TypeError(\"scaler must be a class of either StandardScaler, MinMaxScaler or None\")\n",
        "    if not isinstance(train, pd.DataFrame):\n",
        "      raise TypeError(\"train must be a DataFrame\")\n",
        "\n",
        "    self.train = train\n",
        "    self.model = model\n",
        "    self.scaler = scaler\n",
        "    self.split = split_method\n",
        "    self.num_split = num_split\n",
        "    self.seed = random_seed\n",
        "    self.VERBOSE = VERBOSE\n",
        "    self.feature_importances = None\n",
        "    random.seed(random_seed)\n",
        "    np.random.seed(random_seed)\n",
        "\n",
        "  def run(self)-> float:\n",
        "    X = self.train.iloc[:,:-1]\n",
        "    self.feature_importances = np.zeros(X.shape[1])\n",
        "    y = self.train.iloc[:,-1]\n",
        "\n",
        "    if self.split == \"train_test_split\":\n",
        "      X_train, X_test, y_train, y_test = train_test_split(X, y, test_size=0.1, random_state=self.seed)\n",
        "      if self.scaler != None:\n",
        "        X_train, X_test = self.scaler.fit_transform(X_train), self.scaler.fit_transform(X_test)\n",
        "      self.model.fit(X_train, y_train)\n",
        "      self.feature_importances += self.model.feature_importances_\n",
        "      preds = self.model.predict(X_test)\n",
        "      print(f\"split: {(self.split).upper()}\")\n",
        "      print(f\"RMSE {mean_squared_error(y_test,preds,squared=False)}\")\n",
        "      print(f\"MAE {mean_absolute_error(y_test,preds)}\")\n",
        "      print(f\"MSE {mean_squared_error(y_test,preds)}\")\n",
        "      score = mean_squared_error(y_test,preds,squared=False)\n",
        "      return score\n",
        "\n",
        "    else:\n",
        "      fold = KFold(n_splits=self.num_split)\n",
        "      oof_f1 = []\n",
        "      i = 1\n",
        "      for train_index, test_index in fold.split(X, y):\n",
        "        X_train, X_test = X.iloc[train_index],X.iloc[test_index]\n",
        "        y_train, y_test = y.iloc[train_index],y.iloc[test_index]\n",
        "        if self.scaler != None:\n",
        "          X_train, X_test = self.scaler.fit_transform(X_train), self.scaler.fit_transform(X_test)\n",
        "        if isinstance(self.model, CatBoostRegressor):\n",
        "          self.model.fit(X_train,y_train,verbose=False)\n",
        "        else:\n",
        "          self.model.fit(X_train,y_train)\n",
        "        self.feature_importances += self.model.feature_importances_\n",
        "        preds=self.model.predict(X_test)\n",
        "        if self.VERBOSE:\n",
        "          print(f\"split {self.split}{i}\")\n",
        "          print(f\"RMSE {mean_squared_error(y_test,preds,squared=False)}\")\n",
        "          print(f\"MAE {mean_absolute_error(y_test,preds)}\")\n",
        "          print(f\"MSE {mean_squared_error(y_test,preds)}\\n\")\n",
        "        oof_f1.append(mean_squared_error(y_test,preds,squared=False))\n",
        "        i += 1\n",
        "\n",
        "      self.feature_importances = self.feature_importances / self.num_split\n",
        "      score = sum(oof_f1)/self.num_split\n",
        "      return score\n",
        "\n",
        "  def plot_features(self):\n",
        "    X = self.train.iloc[:,:-1]\n",
        "    features = pd.DataFrame({'feature': list(X.columns),\n",
        "                             'importance': self.feature_importances}).sort_values('importance', ascending = True)\n",
        "    norm = plt.Normalize(features['importance'].min(), features['importance'].max())\n",
        "    cmap = cm.ScalarMappable(norm=norm, cmap='Reds')\n",
        "    colors = [cmap.to_rgba(val) for val in features['importance'].values]\n",
        "    plt.figure(figsize=(25,10))\n",
        "    plt.barh(features['feature'],features['importance'], color=colors)\n",
        "    plt.xlabel('Importance')\n",
        "    plt.ylabel('Feature')\n",
        "    plt.title('Feature Importances')\n",
        "    plt.show()\n",
        "\n",
        "\n"
      ],
      "metadata": {
        "id": "M8l4yOgYDgVw"
      },
      "execution_count": 208,
      "outputs": []
    },
    {
      "cell_type": "code",
      "source": [
        "TT = Train.drop(['id','timestamp'],axis=1)\n",
        "TT['device'] = TT['device'].map({'pc1':1,'pc3':2})\n",
        "TT['area'] = TT['area'].map({'Residential':1,'Avenue':2,'Park':3,'Highway':4,'Tunnel':5})"
      ],
      "metadata": {
        "id": "AtYuE_l7idjd"
      },
      "execution_count": 159,
      "outputs": []
    },
    {
      "cell_type": "code",
      "source": [
        "Baseline = Baseline_score(train=TT,model=lgb,split_method='KFold')\n",
        "lgb_score = Baseline.run()\n",
        "print(f\"CV_RMSE_Score:{lgb_score}\")"
      ],
      "metadata": {
        "colab": {
          "base_uri": "https://localhost:8080/"
        },
        "id": "vgRA3MndfEkp",
        "outputId": "bf5b7b02-83e8-4c49-8915-34d0b21e542d"
      },
      "execution_count": 164,
      "outputs": [
        {
          "output_type": "stream",
          "name": "stdout",
          "text": [
            "split KFold1\n",
            "RMSE 10207608.163774366\n",
            "MAE 6409950.13779341\n",
            "MSE 104195264425153.08\n",
            "\n",
            "split KFold2\n",
            "RMSE 10008141.221621038\n",
            "MAE 6404122.084364645\n",
            "MSE 100162890711910.25\n",
            "\n",
            "split KFold3\n",
            "RMSE 10105001.176720008\n",
            "MAE 6429516.014192624\n",
            "MSE 102111048781512.77\n",
            "\n",
            "split KFold4\n",
            "RMSE 10155497.724917075\n",
            "MAE 6404646.031454049\n",
            "MSE 103134134040795.88\n",
            "\n",
            "split KFold5\n",
            "RMSE 9777122.32689186\n",
            "MAE 6286433.394772493\n",
            "MSE 95592120995007.31\n",
            "\n",
            "CV_RMSE_Score:10050674.12278487\n"
          ]
        }
      ]
    },
    {
      "cell_type": "code",
      "source": [],
      "metadata": {
        "id": "2yT0youqkb4S"
      },
      "execution_count": null,
      "outputs": []
    },
    {
      "cell_type": "markdown",
      "source": [
        "###Data Visualization\n"
      ],
      "metadata": {
        "id": "kvqeG7348Zy9"
      }
    },
    {
      "cell_type": "code",
      "source": [
        "Test['target'] = 'Test'\n",
        "data = pd.concat([Train,Test]).reset_index(drop=True)"
      ],
      "metadata": {
        "id": "-Itz-Fq-6r2r"
      },
      "execution_count": 167,
      "outputs": []
    },
    {
      "cell_type": "code",
      "source": [
        "data.head(3)"
      ],
      "metadata": {
        "colab": {
          "base_uri": "https://localhost:8080/",
          "height": 272
        },
        "id": "FnIIVy_W8kmh",
        "outputId": "b3b49df6-efd5-4c24-dea6-a1bfdfc88ec3"
      },
      "execution_count": 171,
      "outputs": [
        {
          "output_type": "execute_result",
          "data": {
            "text/plain": [
              "              id   timestamp device  PCell_RSRP_max  PCell_RSRQ_max  \\\n",
              "0  Id_qt2qn56050  1624367008    pc1      -84.498750      -14.586875   \n",
              "1  Id_f1zf07cwb6  1624372465    pc3      -86.818125      -11.982500   \n",
              "2  Id_uoxdz7di5b  1624371871    pc3     -101.916250      -13.257500   \n",
              "\n",
              "   PCell_RSSI_max  PCell_SNR_max  PCell_Downlink_Num_RBs  \\\n",
              "0      -49.855625         16.457                 35076.0   \n",
              "1      -54.838125         16.674                 42704.0   \n",
              "2      -71.241250          9.392                 36017.0   \n",
              "\n",
              "   PCell_Downlink_Average_MCS  PCell_Downlink_bandwidth_MHz  ...  dewPoint  \\\n",
              "0                        23.0                          20.0  ...     13.86   \n",
              "1                        24.0                          20.0  ...     14.52   \n",
              "2                        22.0                          20.0  ...     14.71   \n",
              "\n",
              "   humidity  pressure  windSpeed  cloudCover  uvIndex  visibility  \\\n",
              "0      0.62    1013.6       2.39        0.95      4.0      16.093   \n",
              "1      0.59    1013.5       2.29        0.82      3.0      16.093   \n",
              "2      0.61    1013.8       2.13        0.82      3.0      16.093   \n",
              "\n",
              "   Traffic Jam Factor         area      target  \n",
              "0             0.38979  Residential  51500000.0  \n",
              "1             3.78322  Residential  50300000.0  \n",
              "2             2.08425  Residential  16500000.0  \n",
              "\n",
              "[3 rows x 41 columns]"
            ],
            "text/html": [
              "\n",
              "  <div id=\"df-72b77223-c012-4f7c-81f1-c4a2e3c152d5\">\n",
              "    <div class=\"colab-df-container\">\n",
              "      <div>\n",
              "<style scoped>\n",
              "    .dataframe tbody tr th:only-of-type {\n",
              "        vertical-align: middle;\n",
              "    }\n",
              "\n",
              "    .dataframe tbody tr th {\n",
              "        vertical-align: top;\n",
              "    }\n",
              "\n",
              "    .dataframe thead th {\n",
              "        text-align: right;\n",
              "    }\n",
              "</style>\n",
              "<table border=\"1\" class=\"dataframe\">\n",
              "  <thead>\n",
              "    <tr style=\"text-align: right;\">\n",
              "      <th></th>\n",
              "      <th>id</th>\n",
              "      <th>timestamp</th>\n",
              "      <th>device</th>\n",
              "      <th>PCell_RSRP_max</th>\n",
              "      <th>PCell_RSRQ_max</th>\n",
              "      <th>PCell_RSSI_max</th>\n",
              "      <th>PCell_SNR_max</th>\n",
              "      <th>PCell_Downlink_Num_RBs</th>\n",
              "      <th>PCell_Downlink_Average_MCS</th>\n",
              "      <th>PCell_Downlink_bandwidth_MHz</th>\n",
              "      <th>...</th>\n",
              "      <th>dewPoint</th>\n",
              "      <th>humidity</th>\n",
              "      <th>pressure</th>\n",
              "      <th>windSpeed</th>\n",
              "      <th>cloudCover</th>\n",
              "      <th>uvIndex</th>\n",
              "      <th>visibility</th>\n",
              "      <th>Traffic Jam Factor</th>\n",
              "      <th>area</th>\n",
              "      <th>target</th>\n",
              "    </tr>\n",
              "  </thead>\n",
              "  <tbody>\n",
              "    <tr>\n",
              "      <th>0</th>\n",
              "      <td>Id_qt2qn56050</td>\n",
              "      <td>1624367008</td>\n",
              "      <td>pc1</td>\n",
              "      <td>-84.498750</td>\n",
              "      <td>-14.586875</td>\n",
              "      <td>-49.855625</td>\n",
              "      <td>16.457</td>\n",
              "      <td>35076.0</td>\n",
              "      <td>23.0</td>\n",
              "      <td>20.0</td>\n",
              "      <td>...</td>\n",
              "      <td>13.86</td>\n",
              "      <td>0.62</td>\n",
              "      <td>1013.6</td>\n",
              "      <td>2.39</td>\n",
              "      <td>0.95</td>\n",
              "      <td>4.0</td>\n",
              "      <td>16.093</td>\n",
              "      <td>0.38979</td>\n",
              "      <td>Residential</td>\n",
              "      <td>51500000.0</td>\n",
              "    </tr>\n",
              "    <tr>\n",
              "      <th>1</th>\n",
              "      <td>Id_f1zf07cwb6</td>\n",
              "      <td>1624372465</td>\n",
              "      <td>pc3</td>\n",
              "      <td>-86.818125</td>\n",
              "      <td>-11.982500</td>\n",
              "      <td>-54.838125</td>\n",
              "      <td>16.674</td>\n",
              "      <td>42704.0</td>\n",
              "      <td>24.0</td>\n",
              "      <td>20.0</td>\n",
              "      <td>...</td>\n",
              "      <td>14.52</td>\n",
              "      <td>0.59</td>\n",
              "      <td>1013.5</td>\n",
              "      <td>2.29</td>\n",
              "      <td>0.82</td>\n",
              "      <td>3.0</td>\n",
              "      <td>16.093</td>\n",
              "      <td>3.78322</td>\n",
              "      <td>Residential</td>\n",
              "      <td>50300000.0</td>\n",
              "    </tr>\n",
              "    <tr>\n",
              "      <th>2</th>\n",
              "      <td>Id_uoxdz7di5b</td>\n",
              "      <td>1624371871</td>\n",
              "      <td>pc3</td>\n",
              "      <td>-101.916250</td>\n",
              "      <td>-13.257500</td>\n",
              "      <td>-71.241250</td>\n",
              "      <td>9.392</td>\n",
              "      <td>36017.0</td>\n",
              "      <td>22.0</td>\n",
              "      <td>20.0</td>\n",
              "      <td>...</td>\n",
              "      <td>14.71</td>\n",
              "      <td>0.61</td>\n",
              "      <td>1013.8</td>\n",
              "      <td>2.13</td>\n",
              "      <td>0.82</td>\n",
              "      <td>3.0</td>\n",
              "      <td>16.093</td>\n",
              "      <td>2.08425</td>\n",
              "      <td>Residential</td>\n",
              "      <td>16500000.0</td>\n",
              "    </tr>\n",
              "  </tbody>\n",
              "</table>\n",
              "<p>3 rows × 41 columns</p>\n",
              "</div>\n",
              "      <button class=\"colab-df-convert\" onclick=\"convertToInteractive('df-72b77223-c012-4f7c-81f1-c4a2e3c152d5')\"\n",
              "              title=\"Convert this dataframe to an interactive table.\"\n",
              "              style=\"display:none;\">\n",
              "        \n",
              "  <svg xmlns=\"http://www.w3.org/2000/svg\" height=\"24px\"viewBox=\"0 0 24 24\"\n",
              "       width=\"24px\">\n",
              "    <path d=\"M0 0h24v24H0V0z\" fill=\"none\"/>\n",
              "    <path d=\"M18.56 5.44l.94 2.06.94-2.06 2.06-.94-2.06-.94-.94-2.06-.94 2.06-2.06.94zm-11 1L8.5 8.5l.94-2.06 2.06-.94-2.06-.94L8.5 2.5l-.94 2.06-2.06.94zm10 10l.94 2.06.94-2.06 2.06-.94-2.06-.94-.94-2.06-.94 2.06-2.06.94z\"/><path d=\"M17.41 7.96l-1.37-1.37c-.4-.4-.92-.59-1.43-.59-.52 0-1.04.2-1.43.59L10.3 9.45l-7.72 7.72c-.78.78-.78 2.05 0 2.83L4 21.41c.39.39.9.59 1.41.59.51 0 1.02-.2 1.41-.59l7.78-7.78 2.81-2.81c.8-.78.8-2.07 0-2.86zM5.41 20L4 18.59l7.72-7.72 1.47 1.35L5.41 20z\"/>\n",
              "  </svg>\n",
              "      </button>\n",
              "      \n",
              "  <style>\n",
              "    .colab-df-container {\n",
              "      display:flex;\n",
              "      flex-wrap:wrap;\n",
              "      gap: 12px;\n",
              "    }\n",
              "\n",
              "    .colab-df-convert {\n",
              "      background-color: #E8F0FE;\n",
              "      border: none;\n",
              "      border-radius: 50%;\n",
              "      cursor: pointer;\n",
              "      display: none;\n",
              "      fill: #1967D2;\n",
              "      height: 32px;\n",
              "      padding: 0 0 0 0;\n",
              "      width: 32px;\n",
              "    }\n",
              "\n",
              "    .colab-df-convert:hover {\n",
              "      background-color: #E2EBFA;\n",
              "      box-shadow: 0px 1px 2px rgba(60, 64, 67, 0.3), 0px 1px 3px 1px rgba(60, 64, 67, 0.15);\n",
              "      fill: #174EA6;\n",
              "    }\n",
              "\n",
              "    [theme=dark] .colab-df-convert {\n",
              "      background-color: #3B4455;\n",
              "      fill: #D2E3FC;\n",
              "    }\n",
              "\n",
              "    [theme=dark] .colab-df-convert:hover {\n",
              "      background-color: #434B5C;\n",
              "      box-shadow: 0px 1px 3px 1px rgba(0, 0, 0, 0.15);\n",
              "      filter: drop-shadow(0px 1px 2px rgba(0, 0, 0, 0.3));\n",
              "      fill: #FFFFFF;\n",
              "    }\n",
              "  </style>\n",
              "\n",
              "      <script>\n",
              "        const buttonEl =\n",
              "          document.querySelector('#df-72b77223-c012-4f7c-81f1-c4a2e3c152d5 button.colab-df-convert');\n",
              "        buttonEl.style.display =\n",
              "          google.colab.kernel.accessAllowed ? 'block' : 'none';\n",
              "\n",
              "        async function convertToInteractive(key) {\n",
              "          const element = document.querySelector('#df-72b77223-c012-4f7c-81f1-c4a2e3c152d5');\n",
              "          const dataTable =\n",
              "            await google.colab.kernel.invokeFunction('convertToInteractive',\n",
              "                                                     [key], {});\n",
              "          if (!dataTable) return;\n",
              "\n",
              "          const docLinkHtml = 'Like what you see? Visit the ' +\n",
              "            '<a target=\"_blank\" href=https://colab.research.google.com/notebooks/data_table.ipynb>data table notebook</a>'\n",
              "            + ' to learn more about interactive tables.';\n",
              "          element.innerHTML = '';\n",
              "          dataTable['output_type'] = 'display_data';\n",
              "          await google.colab.output.renderOutput(dataTable, element);\n",
              "          const docLink = document.createElement('div');\n",
              "          docLink.innerHTML = docLinkHtml;\n",
              "          element.appendChild(docLink);\n",
              "        }\n",
              "      </script>\n",
              "    </div>\n",
              "  </div>\n",
              "  "
            ]
          },
          "metadata": {},
          "execution_count": 171
        }
      ]
    },
    {
      "cell_type": "code",
      "source": [
        "Vard = Variables.set_index('VARIABLENAME').T"
      ],
      "metadata": {
        "id": "fjK3iHoF-Ibp"
      },
      "execution_count": 176,
      "outputs": []
    },
    {
      "cell_type": "code",
      "source": [
        "Vard[data.filter(like=\"PCell\").columns]"
      ],
      "metadata": {
        "colab": {
          "base_uri": "https://localhost:8080/",
          "height": 232
        },
        "id": "PsU-AkUP68n2",
        "outputId": "58e8e98c-ae6c-4783-b5c9-75970df3df9a"
      },
      "execution_count": 177,
      "outputs": [
        {
          "output_type": "execute_result",
          "data": {
            "text/plain": [
              "VARIABLENAME                                                                PCell_RSRP_max  \\\n",
              "VARIABLE DESCRIPTION  Maximum reference signal received power in dBm from the primary cell   \n",
              "\n",
              "VARIABLENAME                                                                 PCell_RSRQ_max  \\\n",
              "VARIABLE DESCRIPTION  Maximum reference signal received quality in dB from the primary cell   \n",
              "\n",
              "VARIABLENAME                                                                   PCell_RSSI_max  \\\n",
              "VARIABLE DESCRIPTION  Maximum received signal strength indicator in dBm from the primary cell   \n",
              "\n",
              "VARIABLENAME                                                      PCell_SNR_max  \\\n",
              "VARIABLE DESCRIPTION  Maximum signal to noise ratio in dB from the primary cell   \n",
              "\n",
              "VARIABLENAME                                                                   PCell_Downlink_Num_RBs  \\\n",
              "VARIABLE DESCRIPTION  Aggregated number of received resource blocks in downlink from the primary cell   \n",
              "\n",
              "VARIABLENAME                                                                               PCell_Downlink_Average_MCS  \\\n",
              "VARIABLE DESCRIPTION  Average modulation and coding scheme weighted by received resource blocks from the primary cell   \n",
              "\n",
              "VARIABLENAME                             PCell_Downlink_bandwidth_MHz  \\\n",
              "VARIABLE DESCRIPTION  Downlink bandwidth in MHz from the primary cell   \n",
              "\n",
              "VARIABLENAME                   PCell_Cell_Identity  \\\n",
              "VARIABLE DESCRIPTION  Cell ID of the primary cell    \n",
              "\n",
              "VARIABLENAME                                        PCell_freq_MHz  \n",
              "VARIABLE DESCRIPTION  Carrier frequency in MHz of the primary cell  "
            ],
            "text/html": [
              "\n",
              "  <div id=\"df-72805119-c5f7-4d05-b0ec-349532fd3def\">\n",
              "    <div class=\"colab-df-container\">\n",
              "      <div>\n",
              "<style scoped>\n",
              "    .dataframe tbody tr th:only-of-type {\n",
              "        vertical-align: middle;\n",
              "    }\n",
              "\n",
              "    .dataframe tbody tr th {\n",
              "        vertical-align: top;\n",
              "    }\n",
              "\n",
              "    .dataframe thead th {\n",
              "        text-align: right;\n",
              "    }\n",
              "</style>\n",
              "<table border=\"1\" class=\"dataframe\">\n",
              "  <thead>\n",
              "    <tr style=\"text-align: right;\">\n",
              "      <th>VARIABLENAME</th>\n",
              "      <th>PCell_RSRP_max</th>\n",
              "      <th>PCell_RSRQ_max</th>\n",
              "      <th>PCell_RSSI_max</th>\n",
              "      <th>PCell_SNR_max</th>\n",
              "      <th>PCell_Downlink_Num_RBs</th>\n",
              "      <th>PCell_Downlink_Average_MCS</th>\n",
              "      <th>PCell_Downlink_bandwidth_MHz</th>\n",
              "      <th>PCell_Cell_Identity</th>\n",
              "      <th>PCell_freq_MHz</th>\n",
              "    </tr>\n",
              "  </thead>\n",
              "  <tbody>\n",
              "    <tr>\n",
              "      <th>VARIABLE DESCRIPTION</th>\n",
              "      <td>Maximum reference signal received power in dBm from the primary cell</td>\n",
              "      <td>Maximum reference signal received quality in dB from the primary cell</td>\n",
              "      <td>Maximum received signal strength indicator in dBm from the primary cell</td>\n",
              "      <td>Maximum signal to noise ratio in dB from the primary cell</td>\n",
              "      <td>Aggregated number of received resource blocks in downlink from the primary cell</td>\n",
              "      <td>Average modulation and coding scheme weighted by received resource blocks from the primary cell</td>\n",
              "      <td>Downlink bandwidth in MHz from the primary cell</td>\n",
              "      <td>Cell ID of the primary cell</td>\n",
              "      <td>Carrier frequency in MHz of the primary cell</td>\n",
              "    </tr>\n",
              "  </tbody>\n",
              "</table>\n",
              "</div>\n",
              "      <button class=\"colab-df-convert\" onclick=\"convertToInteractive('df-72805119-c5f7-4d05-b0ec-349532fd3def')\"\n",
              "              title=\"Convert this dataframe to an interactive table.\"\n",
              "              style=\"display:none;\">\n",
              "        \n",
              "  <svg xmlns=\"http://www.w3.org/2000/svg\" height=\"24px\"viewBox=\"0 0 24 24\"\n",
              "       width=\"24px\">\n",
              "    <path d=\"M0 0h24v24H0V0z\" fill=\"none\"/>\n",
              "    <path d=\"M18.56 5.44l.94 2.06.94-2.06 2.06-.94-2.06-.94-.94-2.06-.94 2.06-2.06.94zm-11 1L8.5 8.5l.94-2.06 2.06-.94-2.06-.94L8.5 2.5l-.94 2.06-2.06.94zm10 10l.94 2.06.94-2.06 2.06-.94-2.06-.94-.94-2.06-.94 2.06-2.06.94z\"/><path d=\"M17.41 7.96l-1.37-1.37c-.4-.4-.92-.59-1.43-.59-.52 0-1.04.2-1.43.59L10.3 9.45l-7.72 7.72c-.78.78-.78 2.05 0 2.83L4 21.41c.39.39.9.59 1.41.59.51 0 1.02-.2 1.41-.59l7.78-7.78 2.81-2.81c.8-.78.8-2.07 0-2.86zM5.41 20L4 18.59l7.72-7.72 1.47 1.35L5.41 20z\"/>\n",
              "  </svg>\n",
              "      </button>\n",
              "      \n",
              "  <style>\n",
              "    .colab-df-container {\n",
              "      display:flex;\n",
              "      flex-wrap:wrap;\n",
              "      gap: 12px;\n",
              "    }\n",
              "\n",
              "    .colab-df-convert {\n",
              "      background-color: #E8F0FE;\n",
              "      border: none;\n",
              "      border-radius: 50%;\n",
              "      cursor: pointer;\n",
              "      display: none;\n",
              "      fill: #1967D2;\n",
              "      height: 32px;\n",
              "      padding: 0 0 0 0;\n",
              "      width: 32px;\n",
              "    }\n",
              "\n",
              "    .colab-df-convert:hover {\n",
              "      background-color: #E2EBFA;\n",
              "      box-shadow: 0px 1px 2px rgba(60, 64, 67, 0.3), 0px 1px 3px 1px rgba(60, 64, 67, 0.15);\n",
              "      fill: #174EA6;\n",
              "    }\n",
              "\n",
              "    [theme=dark] .colab-df-convert {\n",
              "      background-color: #3B4455;\n",
              "      fill: #D2E3FC;\n",
              "    }\n",
              "\n",
              "    [theme=dark] .colab-df-convert:hover {\n",
              "      background-color: #434B5C;\n",
              "      box-shadow: 0px 1px 3px 1px rgba(0, 0, 0, 0.15);\n",
              "      filter: drop-shadow(0px 1px 2px rgba(0, 0, 0, 0.3));\n",
              "      fill: #FFFFFF;\n",
              "    }\n",
              "  </style>\n",
              "\n",
              "      <script>\n",
              "        const buttonEl =\n",
              "          document.querySelector('#df-72805119-c5f7-4d05-b0ec-349532fd3def button.colab-df-convert');\n",
              "        buttonEl.style.display =\n",
              "          google.colab.kernel.accessAllowed ? 'block' : 'none';\n",
              "\n",
              "        async function convertToInteractive(key) {\n",
              "          const element = document.querySelector('#df-72805119-c5f7-4d05-b0ec-349532fd3def');\n",
              "          const dataTable =\n",
              "            await google.colab.kernel.invokeFunction('convertToInteractive',\n",
              "                                                     [key], {});\n",
              "          if (!dataTable) return;\n",
              "\n",
              "          const docLinkHtml = 'Like what you see? Visit the ' +\n",
              "            '<a target=\"_blank\" href=https://colab.research.google.com/notebooks/data_table.ipynb>data table notebook</a>'\n",
              "            + ' to learn more about interactive tables.';\n",
              "          element.innerHTML = '';\n",
              "          dataTable['output_type'] = 'display_data';\n",
              "          await google.colab.output.renderOutput(dataTable, element);\n",
              "          const docLink = document.createElement('div');\n",
              "          docLink.innerHTML = docLinkHtml;\n",
              "          element.appendChild(docLink);\n",
              "        }\n",
              "      </script>\n",
              "    </div>\n",
              "  </div>\n",
              "  "
            ]
          },
          "metadata": {},
          "execution_count": 177
        }
      ]
    },
    {
      "cell_type": "code",
      "source": [
        "Train.corr()['target'].sort_values()"
      ],
      "metadata": {
        "colab": {
          "base_uri": "https://localhost:8080/"
        },
        "id": "Iot3QN2AVmsN",
        "outputId": "d2ef3299-ec9e-4ce1-bb63-258de2fa7bb6"
      },
      "execution_count": 214,
      "outputs": [
        {
          "output_type": "execute_result",
          "data": {
            "text/plain": [
              "operator                       -0.431571\n",
              "temperature                    -0.248663\n",
              "apparentTemperature            -0.248663\n",
              "dewPoint                       -0.244297\n",
              "PCell_freq_MHz                 -0.163348\n",
              "speed_kmh                      -0.072416\n",
              "Altitude                       -0.065058\n",
              "uvIndex                        -0.060957\n",
              "COG                            -0.056743\n",
              "windSpeed                      -0.003589\n",
              "SCell_freq_MHz                  0.004563\n",
              "Latitude                        0.018893\n",
              "SCell_Downlink_bandwidth_MHz    0.020174\n",
              "Longitude                       0.063113\n",
              "Traffic Jam Factor              0.065635\n",
              "precipIntensity                 0.158196\n",
              "SCell_Cell_Identity             0.178154\n",
              "precipProbability               0.179002\n",
              "pressure                        0.180679\n",
              "PCell_RSRQ_max                  0.199297\n",
              "timestamp                       0.200607\n",
              "humidity                        0.230256\n",
              "cloudCover                      0.246949\n",
              "PCell_Downlink_bandwidth_MHz    0.255724\n",
              "SCell_RSRQ_max                  0.290588\n",
              "PCell_Downlink_Num_RBs          0.407318\n",
              "PCell_Cell_Identity             0.413882\n",
              "PCell_Downlink_Average_MCS      0.453623\n",
              "SCell_RSSI_max                  0.455739\n",
              "PCell_RSRP_max                  0.476838\n",
              "SCell_Downlink_Num_RBs          0.483974\n",
              "SCell_RSRP_max                  0.499241\n",
              "PCell_RSSI_max                  0.509748\n",
              "PCell_SNR_max                   0.578254\n",
              "SCell_Downlink_Average_MCS      0.628431\n",
              "SCell_SNR_max                   0.643400\n",
              "target                          1.000000\n",
              "visibility                           NaN\n",
              "Name: target, dtype: float64"
            ]
          },
          "metadata": {},
          "execution_count": 214
        }
      ]
    },
    {
      "cell_type": "code",
      "source": [
        "TT = Train.drop(['id','timestamp'],axis=1)\n",
        "#TT['device'] = TT['device'].map({'pc1':1,'pc3':2})\n",
        "#TT['area'] = TT['area'].map({'Residential':1,'Avenue':2,'Park':3,'Highway':4,'Tunnel':5})\n",
        "PCell_scores = []\n",
        "for col in TT.filter(like=\"PCell\").columns:\n",
        "  XY = pd.DataFrame({f'{col}':TT[col],'target':TT['target']})\n",
        "\n",
        "  Baseline = Baseline_score(train=XY,model=lgb,split_method='KFold')\n",
        "  lgb_score = Baseline.run()\n",
        "  PCell_scores.append(lgb_score)\n",
        "  print(f\"Col_RMSE_Score:{col}: {lgb_score}\")"
      ],
      "metadata": {
        "colab": {
          "base_uri": "https://localhost:8080/"
        },
        "id": "pC3uVxQgMASz",
        "outputId": "be5172b1-79e0-45b0-dd5c-e2574040de39"
      },
      "execution_count": 231,
      "outputs": [
        {
          "output_type": "stream",
          "name": "stdout",
          "text": [
            "Col_RMSE_Score:PCell_RSRP_max: 37238337.61218478\n",
            "Col_RMSE_Score:PCell_RSRQ_max: 37816573.980470225\n",
            "Col_RMSE_Score:PCell_RSSI_max: 36904651.77613556\n",
            "Col_RMSE_Score:PCell_SNR_max: 34815784.89118713\n",
            "Col_RMSE_Score:PCell_Downlink_Num_RBs: 38729779.51040051\n",
            "Col_RMSE_Score:PCell_Downlink_Average_MCS: 38153983.10164395\n",
            "Col_RMSE_Score:PCell_Downlink_bandwidth_MHz: 41766548.913582474\n",
            "Col_RMSE_Score:PCell_Cell_Identity: 29032913.167414814\n",
            "Col_RMSE_Score:PCell_freq_MHz: 41131941.85831163\n"
          ]
        }
      ]
    },
    {
      "cell_type": "code",
      "source": [
        "TT = Train.drop(['id','timestamp'],axis=1)\n",
        "#TT['device'] = TT['device'].map({'pc1':1,'pc3':2})\n",
        "#TT['area'] = TT['area'].map({'Residential':1,'Avenue':2,'Park':3,'Highway':4,'Tunnel':5})\n",
        "SCell_scores = []\n",
        "for col in TT.filter(like=\"SCell\").columns:\n",
        "  XY = pd.DataFrame({f'{col}':TT[col],'target':TT['target']})\n",
        "\n",
        "  Baseline = Baseline_score(train=XY,model=lgb,split_method='KFold')\n",
        "  lgb_score = Baseline.run()\n",
        "  SCell_scores.append(lgb_score)\n",
        "  print(f\"Col_RMSE_Score:{col}: {lgb_score}\")"
      ],
      "metadata": {
        "colab": {
          "base_uri": "https://localhost:8080/"
        },
        "id": "DS8muCPyQGkH",
        "outputId": "98096ff5-da54-498b-ab3c-b26e168063b4"
      },
      "execution_count": 251,
      "outputs": [
        {
          "output_type": "stream",
          "name": "stdout",
          "text": [
            "Col_RMSE_Score:SCell_RSRP_max: 31490946.14882555\n",
            "Col_RMSE_Score:SCell_RSRQ_max: 31949489.029626776\n",
            "Col_RMSE_Score:SCell_RSSI_max: 32805329.756007947\n",
            "Col_RMSE_Score:SCell_SNR_max: 28525897.224139042\n",
            "Col_RMSE_Score:SCell_Downlink_Num_RBs: 31927984.67441175\n",
            "Col_RMSE_Score:SCell_Downlink_Average_MCS: 28863296.506081272\n",
            "Col_RMSE_Score:SCell_Downlink_bandwidth_MHz: 40489770.061240554\n",
            "Col_RMSE_Score:SCell_Cell_Identity: 36040534.42575747\n",
            "Col_RMSE_Score:SCell_freq_MHz: 36786789.43470169\n"
          ]
        }
      ]
    },
    {
      "cell_type": "code",
      "source": [
        "TT = Train.drop(['id','timestamp'],axis=1)\n",
        "#TT['device'] = TT['device'].map({'pc1':1,'pc3':2})\n",
        "#TT['area'] = TT['area'].map({'Residential':1,'Avenue':2,'Park':3,'Highway':4,'Tunnel':5})\n",
        "PCell_scores_3 = []\n",
        "pcols = np.array(TT.filter(like=\"PCell\").columns)\n",
        "np.random.shuffle(pcols)\n",
        "for i in range(0, len(pcols),3):\n",
        "  cols = pcols[i:i+3]\n",
        "  XY = TT[cols]\n",
        "  XY['target'] = TT['target']\n",
        "\n",
        "  Baseline = Baseline_score(train=XY,model=lgb,split_method='KFold')\n",
        "  lgb_score = Baseline.run()\n",
        "  PCell_scores_3.append(lgb_score)\n",
        "  print(f\"Cols_RMSE_Score:{' , '.join(cols)}: {lgb_score}\")"
      ],
      "metadata": {
        "colab": {
          "base_uri": "https://localhost:8080/"
        },
        "id": "sCq6LBLqXC01",
        "outputId": "a6337ab6-0366-412f-c0e6-87ce60c7cbe6"
      },
      "execution_count": 328,
      "outputs": [
        {
          "output_type": "stream",
          "name": "stdout",
          "text": [
            "Cols_RMSE_Score:PCell_Cell_Identity , PCell_RSRQ_max , PCell_Downlink_Average_MCS: 21362956.75545142\n",
            "Cols_RMSE_Score:PCell_RSRP_max , PCell_freq_MHz , PCell_RSSI_max: 32113186.633738052\n",
            "Cols_RMSE_Score:PCell_Downlink_Num_RBs , PCell_SNR_max , PCell_Downlink_bandwidth_MHz: 25044018.947182152\n"
          ]
        }
      ]
    },
    {
      "cell_type": "code",
      "source": [
        "pcols = np.array(TT.filter(like=\"PCell\").columns)\n",
        "np.random.shuffle(pcols)\n",
        "for i in range(0, len(pcols),3):\n",
        "  cols = pcols[i:i+3]\n",
        "  print(cols)"
      ],
      "metadata": {
        "colab": {
          "base_uri": "https://localhost:8080/"
        },
        "id": "huMAAZhzjFEt",
        "outputId": "ba4bc1df-26a8-49ff-9fdc-def64261bfae"
      },
      "execution_count": 325,
      "outputs": [
        {
          "output_type": "stream",
          "name": "stdout",
          "text": [
            "['PCell_Cell_Identity' 'PCell_RSRQ_max' 'PCell_Downlink_Average_MCS']\n",
            "['PCell_RSRP_max' 'PCell_freq_MHz' 'PCell_RSSI_max']\n",
            "['PCell_Downlink_Num_RBs' 'PCell_SNR_max' 'PCell_Downlink_bandwidth_MHz']\n"
          ]
        }
      ]
    },
    {
      "cell_type": "code",
      "source": [
        "TT = Train.drop(['id','timestamp'],axis=1)\n",
        "#TT['device'] = TT['device'].map({'pc1':1,'pc3':2})\n",
        "#TT['area'] = TT['area'].map({'Residential':1,'Avenue':2,'Park':3,'Highway':4,'Tunnel':5})\n",
        "SCell_scores_3 = []\n",
        "pcols = np.array(TT.filter(like=\"SCell\").columns)\n",
        "np.random.shuffle(pcols)\n",
        "for i in range(0, len(pcols),3):\n",
        "  cols = pcols[i:i+3]\n",
        "  XY = TT[cols]\n",
        "  XY['target'] = TT['target']\n",
        "\n",
        "  Baseline = Baseline_score(train=XY,model=lgb,split_method='KFold')\n",
        "  lgb_score = Baseline.run()\n",
        "  SCell_scores_3.append(lgb_score)\n",
        "  print(f\"Cols_RMSE_Score:{' , '.join(cols)}: {lgb_score}\")"
      ],
      "metadata": {
        "colab": {
          "base_uri": "https://localhost:8080/"
        },
        "id": "rHGZwIhdTb1Y",
        "outputId": "4b06f6df-85d2-41a1-f218-b1fb363ea63a"
      },
      "execution_count": 317,
      "outputs": [
        {
          "output_type": "stream",
          "name": "stdout",
          "text": [
            "Cols_RMSE_Score:SCell_RSRP_max , SCell_RSRQ_max , SCell_Downlink_Average_MCS: 24322255.957962472\n",
            "Cols_RMSE_Score:SCell_SNR_max , SCell_Downlink_Num_RBs , SCell_Cell_Identity: 19853962.559382197\n",
            "Cols_RMSE_Score:SCell_freq_MHz , SCell_Downlink_bandwidth_MHz , SCell_RSSI_max: 32024684.999177612\n"
          ]
        }
      ]
    },
    {
      "cell_type": "code",
      "source": [
        "def percentage_increase(initial: int, final: int) -> float:\n",
        "  inc = ((initial - final)/initial) * 100\n",
        "  return inc"
      ],
      "metadata": {
        "id": "TFqdgdPsbbsy"
      },
      "execution_count": 256,
      "outputs": []
    },
    {
      "cell_type": "code",
      "source": [
        "for i in range(0, len(PCell_scores), 3):\n",
        "  initial = np.mean(PCell_scores[i:i+3])\n",
        "  final = PCell_scores_3[i//3]\n",
        "  print(percentage_increase(initial, final))"
      ],
      "metadata": {
        "colab": {
          "base_uri": "https://localhost:8080/"
        },
        "id": "sRE2yFKFcchR",
        "outputId": "3c15aa95-bf48-472d-d086-24a2889ffa03"
      },
      "execution_count": 257,
      "outputs": [
        {
          "output_type": "stream",
          "name": "stdout",
          "text": [
            "22.34655030085061\n",
            "32.59160265691299\n",
            "23.763745071807534\n"
          ]
        }
      ]
    },
    {
      "cell_type": "code",
      "source": [
        "for i in range(0, len(SCell_scores), 3):\n",
        "  initial = np.mean(SCell_scores[i:i+3])\n",
        "  final = SCell_scores_3[i//3]\n",
        "  print(percentage_increase(initial, final))"
      ],
      "metadata": {
        "colab": {
          "base_uri": "https://localhost:8080/"
        },
        "id": "-XOhuJ5qdKR8",
        "outputId": "2f5402c2-1610-4b08-bba8-98f170de869e"
      },
      "execution_count": 259,
      "outputs": [
        {
          "output_type": "stream",
          "name": "stdout",
          "text": [
            "15.546988741112807\n",
            "28.30324994098852\n",
            "16.264222103717067\n"
          ]
        }
      ]
    },
    {
      "cell_type": "code",
      "source": [],
      "metadata": {
        "id": "p0WdpdFkeNHU"
      },
      "execution_count": null,
      "outputs": []
    }
  ]
}